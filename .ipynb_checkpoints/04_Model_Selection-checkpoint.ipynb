{
 "cells": [
  {
   "cell_type": "markdown",
   "id": "fb6e6af3",
   "metadata": {},
   "source": [
    "# Model Selection\n",
    "\n",
    "In this notebook, we'll evaluate several models and select the most beneficial model for our usecase. Within this analysis, we'll keep in mind our problem statement of helping our client better tailor advertisments to prospective customers."
   ]
  },
  {
   "cell_type": "code",
   "execution_count": 1,
   "id": "56fdbeb7",
   "metadata": {},
   "outputs": [],
   "source": [
    "#imports\n",
    "import numpy as np\n",
    "import pandas as pd\n",
    "import matplotlib.pyplot as plt\n",
    "import requests\n",
    "import pickle\n",
    "\n",
    "from pandas import json_normalize\n",
    "from sklearn.model_selection import train_test_split, GridSearchCV\n",
    "from sklearn.pipeline import Pipeline, FeatureUnion\n",
    "from sklearn.naive_bayes import MultinomialNB\n",
    "from sklearn.linear_model import LogisticRegression\n",
    "from sklearn.metrics import confusion_matrix, ConfusionMatrixDisplay\n",
    "from sklearn.feature_extraction.text import CountVectorizer, TfidfVectorizer\n",
    "from sklearn.model_selection import train_test_split, GridSearchCV\n",
    "from sklearn.metrics import confusion_matrix, ConfusionMatrixDisplay, precision_score, recall_score, f1_score\n",
    "from sklearn.preprocessing import normalize,StandardScaler\n",
    "from sklearn.svm import SVC,LinearSVC\n",
    "from sklearn.ensemble import RandomForestClassifier\n",
    "from sklearn.naive_bayes import BernoulliNB\n",
    "\n",
    "\n",
    "\n",
    "from sklearn.compose import ColumnTransformer\n"
   ]
  },
  {
   "cell_type": "code",
   "execution_count": 2,
   "id": "b5a8c391",
   "metadata": {},
   "outputs": [],
   "source": [
    "with open('pickles/df_text.pkl', 'rb') as f:\n",
    "    df_text = pickle.load(f)"
   ]
  },
  {
   "cell_type": "markdown",
   "id": "8be60054",
   "metadata": {},
   "source": [
    "## Model Testing\n",
    "\n",
    "Now that we have clean, processed, and normalized the data, let's model the data using a several different NLP algorithms. We'll create a pipeline for each model bundle and use GridSearchCV to optimize the input parameters, selecting the optimum model for our data."
   ]
  },
  {
   "cell_type": "markdown",
   "id": "ec58903f",
   "metadata": {},
   "source": [
    "#### PreProcessing\n",
    "\n",
    "To use the sentiment analysis data that was collected in the previous notebook, I'll setup a preprocessor that will store my sentiment analysis data. I'll pass this preprocessor into my model pipeline to shield the sentiment analysis data from the TF-IDF that I will run on my text data."
   ]
  },
  {
   "cell_type": "code",
   "execution_count": 3,
   "id": "9862d40f",
   "metadata": {},
   "outputs": [],
   "source": [
    "# Data variables\n",
    "text_col = df_text['text']\n",
    "sentiment_cols = df_text[['neg', 'neu', 'pos', 'compound']]"
   ]
  },
  {
   "cell_type": "code",
   "execution_count": 4,
   "id": "cb159641",
   "metadata": {},
   "outputs": [],
   "source": [
    "# Preprocessors\n",
    "text_preprocessor = TfidfVectorizer(max_features=1000, stop_words='english',use_idf=True)\n",
    "sentiment_preprocessor = 'passthrough'"
   ]
  },
  {
   "cell_type": "code",
   "execution_count": 5,
   "id": "a419e15c",
   "metadata": {},
   "outputs": [],
   "source": [
    "#define the column transformer to apply different preprocessing to each column\n",
    "preprocessor = ColumnTransformer(\n",
    "    transformers=[\n",
    "        ('text', text_preprocessor, 'text'),\n",
    "        ('sentiment', sentiment_preprocessor, ['neg', 'neu', 'pos', 'compound'])\n",
    "    ])"
   ]
  },
  {
   "cell_type": "markdown",
   "id": "675965e2",
   "metadata": {},
   "source": [
    "### Naive Bayes\n",
    "\n",
    "The first pipeline will consist of a Bernoulli Naive Bayes with a TF-IDF vectorizer for the text data. We're using a Bernouilli NB because of its ability to handle negative numbers as an input. The sentiment analysis data is normalized on a -1 to 1 scale, so this is an important feature of this model."
   ]
  },
  {
   "cell_type": "code",
   "execution_count": 6,
   "id": "dd6355fa",
   "metadata": {},
   "outputs": [],
   "source": [
    "pipe = Pipeline([\n",
    "    ('preprocessor', preprocessor),\n",
    "    ('nb', BernoulliNB())\n",
    "])"
   ]
  },
  {
   "cell_type": "code",
   "execution_count": 7,
   "id": "0bb49543",
   "metadata": {},
   "outputs": [],
   "source": [
    "# define the hyperparameter grid to search over\n",
    "params = {\n",
    "    'preprocessor__text__max_features': [5000, 10000, 15000],\n",
    "    'preprocessor__text__ngram_range': [(1, 1), (1, 2), (2, 2)],\n",
    "    'nb__alpha': [0.1, 0.5, 1.0],\n",
    "    'nb__fit_prior': [True, False],\n",
    "}\n",
    "\n",
    "# define the grid search object\n",
    "gs = GridSearchCV(pipe, params, cv=5)"
   ]
  },
  {
   "cell_type": "code",
   "execution_count": 8,
   "id": "9145d2bd",
   "metadata": {},
   "outputs": [],
   "source": [
    "X = df_text[['text', 'neg', 'neu', 'pos', 'compound']]\n",
    "y = df_text['subreddit']"
   ]
  },
  {
   "cell_type": "code",
   "execution_count": 9,
   "id": "d876d7bf",
   "metadata": {},
   "outputs": [],
   "source": [
    "X_train, X_test, y_train, y_test = train_test_split(X,y, test_size=0.2, random_state=42)\n",
    "y_test_nb = y_test"
   ]
  },
  {
   "cell_type": "code",
   "execution_count": 10,
   "id": "d96f2e61",
   "metadata": {},
   "outputs": [
    {
     "data": {
      "text/html": [
       "<style>#sk-container-id-1 {color: black;background-color: white;}#sk-container-id-1 pre{padding: 0;}#sk-container-id-1 div.sk-toggleable {background-color: white;}#sk-container-id-1 label.sk-toggleable__label {cursor: pointer;display: block;width: 100%;margin-bottom: 0;padding: 0.3em;box-sizing: border-box;text-align: center;}#sk-container-id-1 label.sk-toggleable__label-arrow:before {content: \"▸\";float: left;margin-right: 0.25em;color: #696969;}#sk-container-id-1 label.sk-toggleable__label-arrow:hover:before {color: black;}#sk-container-id-1 div.sk-estimator:hover label.sk-toggleable__label-arrow:before {color: black;}#sk-container-id-1 div.sk-toggleable__content {max-height: 0;max-width: 0;overflow: hidden;text-align: left;background-color: #f0f8ff;}#sk-container-id-1 div.sk-toggleable__content pre {margin: 0.2em;color: black;border-radius: 0.25em;background-color: #f0f8ff;}#sk-container-id-1 input.sk-toggleable__control:checked~div.sk-toggleable__content {max-height: 200px;max-width: 100%;overflow: auto;}#sk-container-id-1 input.sk-toggleable__control:checked~label.sk-toggleable__label-arrow:before {content: \"▾\";}#sk-container-id-1 div.sk-estimator input.sk-toggleable__control:checked~label.sk-toggleable__label {background-color: #d4ebff;}#sk-container-id-1 div.sk-label input.sk-toggleable__control:checked~label.sk-toggleable__label {background-color: #d4ebff;}#sk-container-id-1 input.sk-hidden--visually {border: 0;clip: rect(1px 1px 1px 1px);clip: rect(1px, 1px, 1px, 1px);height: 1px;margin: -1px;overflow: hidden;padding: 0;position: absolute;width: 1px;}#sk-container-id-1 div.sk-estimator {font-family: monospace;background-color: #f0f8ff;border: 1px dotted black;border-radius: 0.25em;box-sizing: border-box;margin-bottom: 0.5em;}#sk-container-id-1 div.sk-estimator:hover {background-color: #d4ebff;}#sk-container-id-1 div.sk-parallel-item::after {content: \"\";width: 100%;border-bottom: 1px solid gray;flex-grow: 1;}#sk-container-id-1 div.sk-label:hover label.sk-toggleable__label {background-color: #d4ebff;}#sk-container-id-1 div.sk-serial::before {content: \"\";position: absolute;border-left: 1px solid gray;box-sizing: border-box;top: 0;bottom: 0;left: 50%;z-index: 0;}#sk-container-id-1 div.sk-serial {display: flex;flex-direction: column;align-items: center;background-color: white;padding-right: 0.2em;padding-left: 0.2em;position: relative;}#sk-container-id-1 div.sk-item {position: relative;z-index: 1;}#sk-container-id-1 div.sk-parallel {display: flex;align-items: stretch;justify-content: center;background-color: white;position: relative;}#sk-container-id-1 div.sk-item::before, #sk-container-id-1 div.sk-parallel-item::before {content: \"\";position: absolute;border-left: 1px solid gray;box-sizing: border-box;top: 0;bottom: 0;left: 50%;z-index: -1;}#sk-container-id-1 div.sk-parallel-item {display: flex;flex-direction: column;z-index: 1;position: relative;background-color: white;}#sk-container-id-1 div.sk-parallel-item:first-child::after {align-self: flex-end;width: 50%;}#sk-container-id-1 div.sk-parallel-item:last-child::after {align-self: flex-start;width: 50%;}#sk-container-id-1 div.sk-parallel-item:only-child::after {width: 0;}#sk-container-id-1 div.sk-dashed-wrapped {border: 1px dashed gray;margin: 0 0.4em 0.5em 0.4em;box-sizing: border-box;padding-bottom: 0.4em;background-color: white;}#sk-container-id-1 div.sk-label label {font-family: monospace;font-weight: bold;display: inline-block;line-height: 1.2em;}#sk-container-id-1 div.sk-label-container {text-align: center;}#sk-container-id-1 div.sk-container {/* jupyter's `normalize.less` sets `[hidden] { display: none; }` but bootstrap.min.css set `[hidden] { display: none !important; }` so we also need the `!important` here to be able to override the default hidden behavior on the sphinx rendered scikit-learn.org. See: https://github.com/scikit-learn/scikit-learn/issues/21755 */display: inline-block !important;position: relative;}#sk-container-id-1 div.sk-text-repr-fallback {display: none;}</style><div id=\"sk-container-id-1\" class=\"sk-top-container\"><div class=\"sk-text-repr-fallback\"><pre>GridSearchCV(cv=5,\n",
       "             estimator=Pipeline(steps=[(&#x27;preprocessor&#x27;,\n",
       "                                        ColumnTransformer(transformers=[(&#x27;text&#x27;,\n",
       "                                                                         TfidfVectorizer(max_features=1000,\n",
       "                                                                                         stop_words=&#x27;english&#x27;),\n",
       "                                                                         &#x27;text&#x27;),\n",
       "                                                                        (&#x27;sentiment&#x27;,\n",
       "                                                                         &#x27;passthrough&#x27;,\n",
       "                                                                         [&#x27;neg&#x27;,\n",
       "                                                                          &#x27;neu&#x27;,\n",
       "                                                                          &#x27;pos&#x27;,\n",
       "                                                                          &#x27;compound&#x27;])])),\n",
       "                                       (&#x27;nb&#x27;, BernoulliNB())]),\n",
       "             param_grid={&#x27;nb__alpha&#x27;: [0.1, 0.5, 1.0],\n",
       "                         &#x27;nb__fit_prior&#x27;: [True, False],\n",
       "                         &#x27;preprocessor__text__max_features&#x27;: [5000, 10000,\n",
       "                                                              15000],\n",
       "                         &#x27;preprocessor__text__ngram_range&#x27;: [(1, 1), (1, 2),\n",
       "                                                             (2, 2)]})</pre><b>In a Jupyter environment, please rerun this cell to show the HTML representation or trust the notebook. <br />On GitHub, the HTML representation is unable to render, please try loading this page with nbviewer.org.</b></div><div class=\"sk-container\" hidden><div class=\"sk-item sk-dashed-wrapped\"><div class=\"sk-label-container\"><div class=\"sk-label sk-toggleable\"><input class=\"sk-toggleable__control sk-hidden--visually\" id=\"sk-estimator-id-1\" type=\"checkbox\" ><label for=\"sk-estimator-id-1\" class=\"sk-toggleable__label sk-toggleable__label-arrow\">GridSearchCV</label><div class=\"sk-toggleable__content\"><pre>GridSearchCV(cv=5,\n",
       "             estimator=Pipeline(steps=[(&#x27;preprocessor&#x27;,\n",
       "                                        ColumnTransformer(transformers=[(&#x27;text&#x27;,\n",
       "                                                                         TfidfVectorizer(max_features=1000,\n",
       "                                                                                         stop_words=&#x27;english&#x27;),\n",
       "                                                                         &#x27;text&#x27;),\n",
       "                                                                        (&#x27;sentiment&#x27;,\n",
       "                                                                         &#x27;passthrough&#x27;,\n",
       "                                                                         [&#x27;neg&#x27;,\n",
       "                                                                          &#x27;neu&#x27;,\n",
       "                                                                          &#x27;pos&#x27;,\n",
       "                                                                          &#x27;compound&#x27;])])),\n",
       "                                       (&#x27;nb&#x27;, BernoulliNB())]),\n",
       "             param_grid={&#x27;nb__alpha&#x27;: [0.1, 0.5, 1.0],\n",
       "                         &#x27;nb__fit_prior&#x27;: [True, False],\n",
       "                         &#x27;preprocessor__text__max_features&#x27;: [5000, 10000,\n",
       "                                                              15000],\n",
       "                         &#x27;preprocessor__text__ngram_range&#x27;: [(1, 1), (1, 2),\n",
       "                                                             (2, 2)]})</pre></div></div></div><div class=\"sk-parallel\"><div class=\"sk-parallel-item\"><div class=\"sk-item\"><div class=\"sk-label-container\"><div class=\"sk-label sk-toggleable\"><input class=\"sk-toggleable__control sk-hidden--visually\" id=\"sk-estimator-id-2\" type=\"checkbox\" ><label for=\"sk-estimator-id-2\" class=\"sk-toggleable__label sk-toggleable__label-arrow\">estimator: Pipeline</label><div class=\"sk-toggleable__content\"><pre>Pipeline(steps=[(&#x27;preprocessor&#x27;,\n",
       "                 ColumnTransformer(transformers=[(&#x27;text&#x27;,\n",
       "                                                  TfidfVectorizer(max_features=1000,\n",
       "                                                                  stop_words=&#x27;english&#x27;),\n",
       "                                                  &#x27;text&#x27;),\n",
       "                                                 (&#x27;sentiment&#x27;, &#x27;passthrough&#x27;,\n",
       "                                                  [&#x27;neg&#x27;, &#x27;neu&#x27;, &#x27;pos&#x27;,\n",
       "                                                   &#x27;compound&#x27;])])),\n",
       "                (&#x27;nb&#x27;, BernoulliNB())])</pre></div></div></div><div class=\"sk-serial\"><div class=\"sk-item\"><div class=\"sk-serial\"><div class=\"sk-item sk-dashed-wrapped\"><div class=\"sk-label-container\"><div class=\"sk-label sk-toggleable\"><input class=\"sk-toggleable__control sk-hidden--visually\" id=\"sk-estimator-id-3\" type=\"checkbox\" ><label for=\"sk-estimator-id-3\" class=\"sk-toggleable__label sk-toggleable__label-arrow\">preprocessor: ColumnTransformer</label><div class=\"sk-toggleable__content\"><pre>ColumnTransformer(transformers=[(&#x27;text&#x27;,\n",
       "                                 TfidfVectorizer(max_features=1000,\n",
       "                                                 stop_words=&#x27;english&#x27;),\n",
       "                                 &#x27;text&#x27;),\n",
       "                                (&#x27;sentiment&#x27;, &#x27;passthrough&#x27;,\n",
       "                                 [&#x27;neg&#x27;, &#x27;neu&#x27;, &#x27;pos&#x27;, &#x27;compound&#x27;])])</pre></div></div></div><div class=\"sk-parallel\"><div class=\"sk-parallel-item\"><div class=\"sk-item\"><div class=\"sk-label-container\"><div class=\"sk-label sk-toggleable\"><input class=\"sk-toggleable__control sk-hidden--visually\" id=\"sk-estimator-id-4\" type=\"checkbox\" ><label for=\"sk-estimator-id-4\" class=\"sk-toggleable__label sk-toggleable__label-arrow\">text</label><div class=\"sk-toggleable__content\"><pre>text</pre></div></div></div><div class=\"sk-serial\"><div class=\"sk-item\"><div class=\"sk-estimator sk-toggleable\"><input class=\"sk-toggleable__control sk-hidden--visually\" id=\"sk-estimator-id-5\" type=\"checkbox\" ><label for=\"sk-estimator-id-5\" class=\"sk-toggleable__label sk-toggleable__label-arrow\">TfidfVectorizer</label><div class=\"sk-toggleable__content\"><pre>TfidfVectorizer(max_features=1000, stop_words=&#x27;english&#x27;)</pre></div></div></div></div></div></div><div class=\"sk-parallel-item\"><div class=\"sk-item\"><div class=\"sk-label-container\"><div class=\"sk-label sk-toggleable\"><input class=\"sk-toggleable__control sk-hidden--visually\" id=\"sk-estimator-id-6\" type=\"checkbox\" ><label for=\"sk-estimator-id-6\" class=\"sk-toggleable__label sk-toggleable__label-arrow\">sentiment</label><div class=\"sk-toggleable__content\"><pre>[&#x27;neg&#x27;, &#x27;neu&#x27;, &#x27;pos&#x27;, &#x27;compound&#x27;]</pre></div></div></div><div class=\"sk-serial\"><div class=\"sk-item\"><div class=\"sk-estimator sk-toggleable\"><input class=\"sk-toggleable__control sk-hidden--visually\" id=\"sk-estimator-id-7\" type=\"checkbox\" ><label for=\"sk-estimator-id-7\" class=\"sk-toggleable__label sk-toggleable__label-arrow\">passthrough</label><div class=\"sk-toggleable__content\"><pre>passthrough</pre></div></div></div></div></div></div></div></div><div class=\"sk-item\"><div class=\"sk-estimator sk-toggleable\"><input class=\"sk-toggleable__control sk-hidden--visually\" id=\"sk-estimator-id-8\" type=\"checkbox\" ><label for=\"sk-estimator-id-8\" class=\"sk-toggleable__label sk-toggleable__label-arrow\">BernoulliNB</label><div class=\"sk-toggleable__content\"><pre>BernoulliNB()</pre></div></div></div></div></div></div></div></div></div></div></div></div>"
      ],
      "text/plain": [
       "GridSearchCV(cv=5,\n",
       "             estimator=Pipeline(steps=[('preprocessor',\n",
       "                                        ColumnTransformer(transformers=[('text',\n",
       "                                                                         TfidfVectorizer(max_features=1000,\n",
       "                                                                                         stop_words='english'),\n",
       "                                                                         'text'),\n",
       "                                                                        ('sentiment',\n",
       "                                                                         'passthrough',\n",
       "                                                                         ['neg',\n",
       "                                                                          'neu',\n",
       "                                                                          'pos',\n",
       "                                                                          'compound'])])),\n",
       "                                       ('nb', BernoulliNB())]),\n",
       "             param_grid={'nb__alpha': [0.1, 0.5, 1.0],\n",
       "                         'nb__fit_prior': [True, False],\n",
       "                         'preprocessor__text__max_features': [5000, 10000,\n",
       "                                                              15000],\n",
       "                         'preprocessor__text__ngram_range': [(1, 1), (1, 2),\n",
       "                                                             (2, 2)]})"
      ]
     },
     "execution_count": 10,
     "metadata": {},
     "output_type": "execute_result"
    }
   ],
   "source": [
    "# fit the model\n",
    "gs.fit(X_train, y_train)"
   ]
  },
  {
   "cell_type": "markdown",
   "id": "0ac75da8",
   "metadata": {},
   "source": [
    "#### Refitting Naive Bayes Pipe with Best Parameters\n",
    "\n",
    "We can now apply the best parameters found during our gridsearch to our Bernoulli Naive Bayes model."
   ]
  },
  {
   "cell_type": "code",
   "execution_count": 11,
   "id": "c75875dc",
   "metadata": {},
   "outputs": [
    {
     "data": {
      "text/html": [
       "<style>#sk-container-id-2 {color: black;background-color: white;}#sk-container-id-2 pre{padding: 0;}#sk-container-id-2 div.sk-toggleable {background-color: white;}#sk-container-id-2 label.sk-toggleable__label {cursor: pointer;display: block;width: 100%;margin-bottom: 0;padding: 0.3em;box-sizing: border-box;text-align: center;}#sk-container-id-2 label.sk-toggleable__label-arrow:before {content: \"▸\";float: left;margin-right: 0.25em;color: #696969;}#sk-container-id-2 label.sk-toggleable__label-arrow:hover:before {color: black;}#sk-container-id-2 div.sk-estimator:hover label.sk-toggleable__label-arrow:before {color: black;}#sk-container-id-2 div.sk-toggleable__content {max-height: 0;max-width: 0;overflow: hidden;text-align: left;background-color: #f0f8ff;}#sk-container-id-2 div.sk-toggleable__content pre {margin: 0.2em;color: black;border-radius: 0.25em;background-color: #f0f8ff;}#sk-container-id-2 input.sk-toggleable__control:checked~div.sk-toggleable__content {max-height: 200px;max-width: 100%;overflow: auto;}#sk-container-id-2 input.sk-toggleable__control:checked~label.sk-toggleable__label-arrow:before {content: \"▾\";}#sk-container-id-2 div.sk-estimator input.sk-toggleable__control:checked~label.sk-toggleable__label {background-color: #d4ebff;}#sk-container-id-2 div.sk-label input.sk-toggleable__control:checked~label.sk-toggleable__label {background-color: #d4ebff;}#sk-container-id-2 input.sk-hidden--visually {border: 0;clip: rect(1px 1px 1px 1px);clip: rect(1px, 1px, 1px, 1px);height: 1px;margin: -1px;overflow: hidden;padding: 0;position: absolute;width: 1px;}#sk-container-id-2 div.sk-estimator {font-family: monospace;background-color: #f0f8ff;border: 1px dotted black;border-radius: 0.25em;box-sizing: border-box;margin-bottom: 0.5em;}#sk-container-id-2 div.sk-estimator:hover {background-color: #d4ebff;}#sk-container-id-2 div.sk-parallel-item::after {content: \"\";width: 100%;border-bottom: 1px solid gray;flex-grow: 1;}#sk-container-id-2 div.sk-label:hover label.sk-toggleable__label {background-color: #d4ebff;}#sk-container-id-2 div.sk-serial::before {content: \"\";position: absolute;border-left: 1px solid gray;box-sizing: border-box;top: 0;bottom: 0;left: 50%;z-index: 0;}#sk-container-id-2 div.sk-serial {display: flex;flex-direction: column;align-items: center;background-color: white;padding-right: 0.2em;padding-left: 0.2em;position: relative;}#sk-container-id-2 div.sk-item {position: relative;z-index: 1;}#sk-container-id-2 div.sk-parallel {display: flex;align-items: stretch;justify-content: center;background-color: white;position: relative;}#sk-container-id-2 div.sk-item::before, #sk-container-id-2 div.sk-parallel-item::before {content: \"\";position: absolute;border-left: 1px solid gray;box-sizing: border-box;top: 0;bottom: 0;left: 50%;z-index: -1;}#sk-container-id-2 div.sk-parallel-item {display: flex;flex-direction: column;z-index: 1;position: relative;background-color: white;}#sk-container-id-2 div.sk-parallel-item:first-child::after {align-self: flex-end;width: 50%;}#sk-container-id-2 div.sk-parallel-item:last-child::after {align-self: flex-start;width: 50%;}#sk-container-id-2 div.sk-parallel-item:only-child::after {width: 0;}#sk-container-id-2 div.sk-dashed-wrapped {border: 1px dashed gray;margin: 0 0.4em 0.5em 0.4em;box-sizing: border-box;padding-bottom: 0.4em;background-color: white;}#sk-container-id-2 div.sk-label label {font-family: monospace;font-weight: bold;display: inline-block;line-height: 1.2em;}#sk-container-id-2 div.sk-label-container {text-align: center;}#sk-container-id-2 div.sk-container {/* jupyter's `normalize.less` sets `[hidden] { display: none; }` but bootstrap.min.css set `[hidden] { display: none !important; }` so we also need the `!important` here to be able to override the default hidden behavior on the sphinx rendered scikit-learn.org. See: https://github.com/scikit-learn/scikit-learn/issues/21755 */display: inline-block !important;position: relative;}#sk-container-id-2 div.sk-text-repr-fallback {display: none;}</style><div id=\"sk-container-id-2\" class=\"sk-top-container\"><div class=\"sk-text-repr-fallback\"><pre>Pipeline(steps=[(&#x27;preprocessor&#x27;,\n",
       "                 ColumnTransformer(transformers=[(&#x27;text&#x27;,\n",
       "                                                  TfidfVectorizer(max_features=15000,\n",
       "                                                                  ngram_range=(1,\n",
       "                                                                               2),\n",
       "                                                                  stop_words=&#x27;english&#x27;),\n",
       "                                                  &#x27;text&#x27;),\n",
       "                                                 (&#x27;sentiment&#x27;, &#x27;passthrough&#x27;,\n",
       "                                                  [&#x27;neg&#x27;, &#x27;neu&#x27;, &#x27;pos&#x27;,\n",
       "                                                   &#x27;compound&#x27;])])),\n",
       "                (&#x27;nb&#x27;, BernoulliNB(alpha=0.1))])</pre><b>In a Jupyter environment, please rerun this cell to show the HTML representation or trust the notebook. <br />On GitHub, the HTML representation is unable to render, please try loading this page with nbviewer.org.</b></div><div class=\"sk-container\" hidden><div class=\"sk-item sk-dashed-wrapped\"><div class=\"sk-label-container\"><div class=\"sk-label sk-toggleable\"><input class=\"sk-toggleable__control sk-hidden--visually\" id=\"sk-estimator-id-9\" type=\"checkbox\" ><label for=\"sk-estimator-id-9\" class=\"sk-toggleable__label sk-toggleable__label-arrow\">Pipeline</label><div class=\"sk-toggleable__content\"><pre>Pipeline(steps=[(&#x27;preprocessor&#x27;,\n",
       "                 ColumnTransformer(transformers=[(&#x27;text&#x27;,\n",
       "                                                  TfidfVectorizer(max_features=15000,\n",
       "                                                                  ngram_range=(1,\n",
       "                                                                               2),\n",
       "                                                                  stop_words=&#x27;english&#x27;),\n",
       "                                                  &#x27;text&#x27;),\n",
       "                                                 (&#x27;sentiment&#x27;, &#x27;passthrough&#x27;,\n",
       "                                                  [&#x27;neg&#x27;, &#x27;neu&#x27;, &#x27;pos&#x27;,\n",
       "                                                   &#x27;compound&#x27;])])),\n",
       "                (&#x27;nb&#x27;, BernoulliNB(alpha=0.1))])</pre></div></div></div><div class=\"sk-serial\"><div class=\"sk-item sk-dashed-wrapped\"><div class=\"sk-label-container\"><div class=\"sk-label sk-toggleable\"><input class=\"sk-toggleable__control sk-hidden--visually\" id=\"sk-estimator-id-10\" type=\"checkbox\" ><label for=\"sk-estimator-id-10\" class=\"sk-toggleable__label sk-toggleable__label-arrow\">preprocessor: ColumnTransformer</label><div class=\"sk-toggleable__content\"><pre>ColumnTransformer(transformers=[(&#x27;text&#x27;,\n",
       "                                 TfidfVectorizer(max_features=15000,\n",
       "                                                 ngram_range=(1, 2),\n",
       "                                                 stop_words=&#x27;english&#x27;),\n",
       "                                 &#x27;text&#x27;),\n",
       "                                (&#x27;sentiment&#x27;, &#x27;passthrough&#x27;,\n",
       "                                 [&#x27;neg&#x27;, &#x27;neu&#x27;, &#x27;pos&#x27;, &#x27;compound&#x27;])])</pre></div></div></div><div class=\"sk-parallel\"><div class=\"sk-parallel-item\"><div class=\"sk-item\"><div class=\"sk-label-container\"><div class=\"sk-label sk-toggleable\"><input class=\"sk-toggleable__control sk-hidden--visually\" id=\"sk-estimator-id-11\" type=\"checkbox\" ><label for=\"sk-estimator-id-11\" class=\"sk-toggleable__label sk-toggleable__label-arrow\">text</label><div class=\"sk-toggleable__content\"><pre>text</pre></div></div></div><div class=\"sk-serial\"><div class=\"sk-item\"><div class=\"sk-estimator sk-toggleable\"><input class=\"sk-toggleable__control sk-hidden--visually\" id=\"sk-estimator-id-12\" type=\"checkbox\" ><label for=\"sk-estimator-id-12\" class=\"sk-toggleable__label sk-toggleable__label-arrow\">TfidfVectorizer</label><div class=\"sk-toggleable__content\"><pre>TfidfVectorizer(max_features=15000, ngram_range=(1, 2), stop_words=&#x27;english&#x27;)</pre></div></div></div></div></div></div><div class=\"sk-parallel-item\"><div class=\"sk-item\"><div class=\"sk-label-container\"><div class=\"sk-label sk-toggleable\"><input class=\"sk-toggleable__control sk-hidden--visually\" id=\"sk-estimator-id-13\" type=\"checkbox\" ><label for=\"sk-estimator-id-13\" class=\"sk-toggleable__label sk-toggleable__label-arrow\">sentiment</label><div class=\"sk-toggleable__content\"><pre>[&#x27;neg&#x27;, &#x27;neu&#x27;, &#x27;pos&#x27;, &#x27;compound&#x27;]</pre></div></div></div><div class=\"sk-serial\"><div class=\"sk-item\"><div class=\"sk-estimator sk-toggleable\"><input class=\"sk-toggleable__control sk-hidden--visually\" id=\"sk-estimator-id-14\" type=\"checkbox\" ><label for=\"sk-estimator-id-14\" class=\"sk-toggleable__label sk-toggleable__label-arrow\">passthrough</label><div class=\"sk-toggleable__content\"><pre>passthrough</pre></div></div></div></div></div></div></div></div><div class=\"sk-item\"><div class=\"sk-estimator sk-toggleable\"><input class=\"sk-toggleable__control sk-hidden--visually\" id=\"sk-estimator-id-15\" type=\"checkbox\" ><label for=\"sk-estimator-id-15\" class=\"sk-toggleable__label sk-toggleable__label-arrow\">BernoulliNB</label><div class=\"sk-toggleable__content\"><pre>BernoulliNB(alpha=0.1)</pre></div></div></div></div></div></div></div>"
      ],
      "text/plain": [
       "Pipeline(steps=[('preprocessor',\n",
       "                 ColumnTransformer(transformers=[('text',\n",
       "                                                  TfidfVectorizer(max_features=15000,\n",
       "                                                                  ngram_range=(1,\n",
       "                                                                               2),\n",
       "                                                                  stop_words='english'),\n",
       "                                                  'text'),\n",
       "                                                 ('sentiment', 'passthrough',\n",
       "                                                  ['neg', 'neu', 'pos',\n",
       "                                                   'compound'])])),\n",
       "                ('nb', BernoulliNB(alpha=0.1))])"
      ]
     },
     "execution_count": 11,
     "metadata": {},
     "output_type": "execute_result"
    }
   ],
   "source": [
    "# Get best hyperparameters\n",
    "best_params_nb = gs.best_params_\n",
    "pipe.set_params(**best_params_nb)\n",
    "\n",
    "# Refit pipeline on entire training set\n",
    "pipe.fit(X_train, y_train)"
   ]
  },
  {
   "cell_type": "markdown",
   "id": "8acdf3d8",
   "metadata": {},
   "source": [
    "#### Generating Naive Bayes Model Predictions"
   ]
  },
  {
   "cell_type": "code",
   "execution_count": 12,
   "id": "9d5b9a82",
   "metadata": {},
   "outputs": [],
   "source": [
    "y_pred_nb = pipe.predict(X_test)\n",
    "y_score_nb = pipe.predict_proba(X_test)[:, 1]\n",
    "accuracy = pipe.score(X_test, y_test)\n",
    "precision = precision_score(y_test, y_pred_nb)\n",
    "recall = recall_score(y_test, y_pred_nb)\n",
    "f1 = f1_score(y_test, y_pred_nb)"
   ]
  },
  {
   "cell_type": "markdown",
   "id": "f5e41435",
   "metadata": {},
   "source": [
    "#### Naive Bayes Results"
   ]
  },
  {
   "cell_type": "code",
   "execution_count": 41,
   "id": "0aa3b9bd",
   "metadata": {},
   "outputs": [
    {
     "name": "stdout",
     "output_type": "stream",
     "text": [
      "NB Accuracy: 0.8702549575070821\n",
      "NB Precision: 0.9362549800796812\n",
      "NB Recall: 0.7957110609480813\n",
      "NB F1 score: 0.8602806589383771\n"
     ]
    }
   ],
   "source": [
    "print(f\"NB Accuracy: {accuracy}\")\n",
    "print(f\"NB Precision: {precision}\")\n",
    "print(f\"NB Recall: {recall}\")\n",
    "print(f\"NB F1 score: {f1}\")"
   ]
  },
  {
   "cell_type": "code",
   "execution_count": 14,
   "id": "d8b24e80",
   "metadata": {},
   "outputs": [
    {
     "data": {
      "text/plain": [
       "{'nb__alpha': 0.1,\n",
       " 'nb__fit_prior': True,\n",
       " 'preprocessor__text__max_features': 15000,\n",
       " 'preprocessor__text__ngram_range': (1, 2)}"
      ]
     },
     "execution_count": 14,
     "metadata": {},
     "output_type": "execute_result"
    }
   ],
   "source": [
    "best_params_nb"
   ]
  },
  {
   "cell_type": "markdown",
   "id": "fedd63f5",
   "metadata": {},
   "source": [
    "### Random Forest\n",
    "\n",
    "\n",
    "Random forests are a type of ensemble learning method that combine multiple decision trees to make predictions. They are a popular choice for classification tasks in machine learning, including those involving natural language processing (NLP). Tree-based models are also exceptional at identifying non-linear trends in the data that other models may miss.\n",
    "\n",
    "Below we'll evaluate our data using a Random Forest:"
   ]
  },
  {
   "cell_type": "code",
   "execution_count": 15,
   "id": "e8d993b6",
   "metadata": {},
   "outputs": [],
   "source": [
    "# Setting preprocessors\n",
    "preprocessor = ColumnTransformer(\n",
    "    transformers=[\n",
    "        ('text', text_preprocessor, 'text'),\n",
    "        ('sentiment', sentiment_preprocessor, ['neg', 'neu', 'pos', 'compound'])\n",
    "    ])"
   ]
  },
  {
   "cell_type": "code",
   "execution_count": 16,
   "id": "2ee0c2ff",
   "metadata": {},
   "outputs": [],
   "source": [
    "pipe_rf = Pipeline([\n",
    "    ('preprocessor', preprocessor),\n",
    "    ('rfc', RandomForestClassifier())\n",
    "])"
   ]
  },
  {
   "cell_type": "code",
   "execution_count": 17,
   "id": "4bd5a989",
   "metadata": {},
   "outputs": [],
   "source": [
    "X_train, X_test, y_train, y_test = train_test_split(X,y, test_size=0.2, random_state=420)\n",
    "y_test_rf= y_test"
   ]
  },
  {
   "cell_type": "code",
   "execution_count": 18,
   "id": "ea365881",
   "metadata": {},
   "outputs": [],
   "source": [
    "param_grid = {\n",
    "    'preprocessor__text__max_features': [10000, 15000, 20000],\n",
    "    'preprocessor__text__ngram_range': [(1, 1), (1, 2), (2, 2)],\n",
    "    'rfc__n_estimators': [50, 100, 200],\n",
    "    'rfc__max_depth': [None, 5, 10],\n",
    "    'rfc__min_samples_split': [2, 5, 10]\n",
    "}"
   ]
  },
  {
   "cell_type": "code",
   "execution_count": 19,
   "id": "4ce560fd",
   "metadata": {},
   "outputs": [
    {
     "name": "stderr",
     "output_type": "stream",
     "text": [
      "/Users/ryan/miniconda3/envs/tf/lib/python3.9/site-packages/joblib/externals/loky/process_executor.py:700: UserWarning: A worker stopped while some jobs were given to the executor. This can be caused by a too short worker timeout or by a memory leak.\n",
      "  warnings.warn(\n"
     ]
    },
    {
     "data": {
      "text/html": [
       "<style>#sk-container-id-3 {color: black;background-color: white;}#sk-container-id-3 pre{padding: 0;}#sk-container-id-3 div.sk-toggleable {background-color: white;}#sk-container-id-3 label.sk-toggleable__label {cursor: pointer;display: block;width: 100%;margin-bottom: 0;padding: 0.3em;box-sizing: border-box;text-align: center;}#sk-container-id-3 label.sk-toggleable__label-arrow:before {content: \"▸\";float: left;margin-right: 0.25em;color: #696969;}#sk-container-id-3 label.sk-toggleable__label-arrow:hover:before {color: black;}#sk-container-id-3 div.sk-estimator:hover label.sk-toggleable__label-arrow:before {color: black;}#sk-container-id-3 div.sk-toggleable__content {max-height: 0;max-width: 0;overflow: hidden;text-align: left;background-color: #f0f8ff;}#sk-container-id-3 div.sk-toggleable__content pre {margin: 0.2em;color: black;border-radius: 0.25em;background-color: #f0f8ff;}#sk-container-id-3 input.sk-toggleable__control:checked~div.sk-toggleable__content {max-height: 200px;max-width: 100%;overflow: auto;}#sk-container-id-3 input.sk-toggleable__control:checked~label.sk-toggleable__label-arrow:before {content: \"▾\";}#sk-container-id-3 div.sk-estimator input.sk-toggleable__control:checked~label.sk-toggleable__label {background-color: #d4ebff;}#sk-container-id-3 div.sk-label input.sk-toggleable__control:checked~label.sk-toggleable__label {background-color: #d4ebff;}#sk-container-id-3 input.sk-hidden--visually {border: 0;clip: rect(1px 1px 1px 1px);clip: rect(1px, 1px, 1px, 1px);height: 1px;margin: -1px;overflow: hidden;padding: 0;position: absolute;width: 1px;}#sk-container-id-3 div.sk-estimator {font-family: monospace;background-color: #f0f8ff;border: 1px dotted black;border-radius: 0.25em;box-sizing: border-box;margin-bottom: 0.5em;}#sk-container-id-3 div.sk-estimator:hover {background-color: #d4ebff;}#sk-container-id-3 div.sk-parallel-item::after {content: \"\";width: 100%;border-bottom: 1px solid gray;flex-grow: 1;}#sk-container-id-3 div.sk-label:hover label.sk-toggleable__label {background-color: #d4ebff;}#sk-container-id-3 div.sk-serial::before {content: \"\";position: absolute;border-left: 1px solid gray;box-sizing: border-box;top: 0;bottom: 0;left: 50%;z-index: 0;}#sk-container-id-3 div.sk-serial {display: flex;flex-direction: column;align-items: center;background-color: white;padding-right: 0.2em;padding-left: 0.2em;position: relative;}#sk-container-id-3 div.sk-item {position: relative;z-index: 1;}#sk-container-id-3 div.sk-parallel {display: flex;align-items: stretch;justify-content: center;background-color: white;position: relative;}#sk-container-id-3 div.sk-item::before, #sk-container-id-3 div.sk-parallel-item::before {content: \"\";position: absolute;border-left: 1px solid gray;box-sizing: border-box;top: 0;bottom: 0;left: 50%;z-index: -1;}#sk-container-id-3 div.sk-parallel-item {display: flex;flex-direction: column;z-index: 1;position: relative;background-color: white;}#sk-container-id-3 div.sk-parallel-item:first-child::after {align-self: flex-end;width: 50%;}#sk-container-id-3 div.sk-parallel-item:last-child::after {align-self: flex-start;width: 50%;}#sk-container-id-3 div.sk-parallel-item:only-child::after {width: 0;}#sk-container-id-3 div.sk-dashed-wrapped {border: 1px dashed gray;margin: 0 0.4em 0.5em 0.4em;box-sizing: border-box;padding-bottom: 0.4em;background-color: white;}#sk-container-id-3 div.sk-label label {font-family: monospace;font-weight: bold;display: inline-block;line-height: 1.2em;}#sk-container-id-3 div.sk-label-container {text-align: center;}#sk-container-id-3 div.sk-container {/* jupyter's `normalize.less` sets `[hidden] { display: none; }` but bootstrap.min.css set `[hidden] { display: none !important; }` so we also need the `!important` here to be able to override the default hidden behavior on the sphinx rendered scikit-learn.org. See: https://github.com/scikit-learn/scikit-learn/issues/21755 */display: inline-block !important;position: relative;}#sk-container-id-3 div.sk-text-repr-fallback {display: none;}</style><div id=\"sk-container-id-3\" class=\"sk-top-container\"><div class=\"sk-text-repr-fallback\"><pre>GridSearchCV(cv=5,\n",
       "             estimator=Pipeline(steps=[(&#x27;preprocessor&#x27;,\n",
       "                                        ColumnTransformer(transformers=[(&#x27;text&#x27;,\n",
       "                                                                         TfidfVectorizer(max_features=15000,\n",
       "                                                                                         ngram_range=(1,\n",
       "                                                                                                      2),\n",
       "                                                                                         stop_words=&#x27;english&#x27;),\n",
       "                                                                         &#x27;text&#x27;),\n",
       "                                                                        (&#x27;sentiment&#x27;,\n",
       "                                                                         &#x27;passthrough&#x27;,\n",
       "                                                                         [&#x27;neg&#x27;,\n",
       "                                                                          &#x27;neu&#x27;,\n",
       "                                                                          &#x27;pos&#x27;,\n",
       "                                                                          &#x27;compound&#x27;])])),\n",
       "                                       (&#x27;rfc&#x27;, RandomForestClassifier())]),\n",
       "             n_jobs=-1,\n",
       "             param_grid={&#x27;preprocessor__text__max_features&#x27;: [10000, 15000,\n",
       "                                                              20000],\n",
       "                         &#x27;preprocessor__text__ngram_range&#x27;: [(1, 1), (1, 2),\n",
       "                                                             (2, 2)],\n",
       "                         &#x27;rfc__max_depth&#x27;: [None, 5, 10],\n",
       "                         &#x27;rfc__min_samples_split&#x27;: [2, 5, 10],\n",
       "                         &#x27;rfc__n_estimators&#x27;: [50, 100, 200]},\n",
       "             scoring=&#x27;accuracy&#x27;)</pre><b>In a Jupyter environment, please rerun this cell to show the HTML representation or trust the notebook. <br />On GitHub, the HTML representation is unable to render, please try loading this page with nbviewer.org.</b></div><div class=\"sk-container\" hidden><div class=\"sk-item sk-dashed-wrapped\"><div class=\"sk-label-container\"><div class=\"sk-label sk-toggleable\"><input class=\"sk-toggleable__control sk-hidden--visually\" id=\"sk-estimator-id-16\" type=\"checkbox\" ><label for=\"sk-estimator-id-16\" class=\"sk-toggleable__label sk-toggleable__label-arrow\">GridSearchCV</label><div class=\"sk-toggleable__content\"><pre>GridSearchCV(cv=5,\n",
       "             estimator=Pipeline(steps=[(&#x27;preprocessor&#x27;,\n",
       "                                        ColumnTransformer(transformers=[(&#x27;text&#x27;,\n",
       "                                                                         TfidfVectorizer(max_features=15000,\n",
       "                                                                                         ngram_range=(1,\n",
       "                                                                                                      2),\n",
       "                                                                                         stop_words=&#x27;english&#x27;),\n",
       "                                                                         &#x27;text&#x27;),\n",
       "                                                                        (&#x27;sentiment&#x27;,\n",
       "                                                                         &#x27;passthrough&#x27;,\n",
       "                                                                         [&#x27;neg&#x27;,\n",
       "                                                                          &#x27;neu&#x27;,\n",
       "                                                                          &#x27;pos&#x27;,\n",
       "                                                                          &#x27;compound&#x27;])])),\n",
       "                                       (&#x27;rfc&#x27;, RandomForestClassifier())]),\n",
       "             n_jobs=-1,\n",
       "             param_grid={&#x27;preprocessor__text__max_features&#x27;: [10000, 15000,\n",
       "                                                              20000],\n",
       "                         &#x27;preprocessor__text__ngram_range&#x27;: [(1, 1), (1, 2),\n",
       "                                                             (2, 2)],\n",
       "                         &#x27;rfc__max_depth&#x27;: [None, 5, 10],\n",
       "                         &#x27;rfc__min_samples_split&#x27;: [2, 5, 10],\n",
       "                         &#x27;rfc__n_estimators&#x27;: [50, 100, 200]},\n",
       "             scoring=&#x27;accuracy&#x27;)</pre></div></div></div><div class=\"sk-parallel\"><div class=\"sk-parallel-item\"><div class=\"sk-item\"><div class=\"sk-label-container\"><div class=\"sk-label sk-toggleable\"><input class=\"sk-toggleable__control sk-hidden--visually\" id=\"sk-estimator-id-17\" type=\"checkbox\" ><label for=\"sk-estimator-id-17\" class=\"sk-toggleable__label sk-toggleable__label-arrow\">estimator: Pipeline</label><div class=\"sk-toggleable__content\"><pre>Pipeline(steps=[(&#x27;preprocessor&#x27;,\n",
       "                 ColumnTransformer(transformers=[(&#x27;text&#x27;,\n",
       "                                                  TfidfVectorizer(max_features=15000,\n",
       "                                                                  ngram_range=(1,\n",
       "                                                                               2),\n",
       "                                                                  stop_words=&#x27;english&#x27;),\n",
       "                                                  &#x27;text&#x27;),\n",
       "                                                 (&#x27;sentiment&#x27;, &#x27;passthrough&#x27;,\n",
       "                                                  [&#x27;neg&#x27;, &#x27;neu&#x27;, &#x27;pos&#x27;,\n",
       "                                                   &#x27;compound&#x27;])])),\n",
       "                (&#x27;rfc&#x27;, RandomForestClassifier())])</pre></div></div></div><div class=\"sk-serial\"><div class=\"sk-item\"><div class=\"sk-serial\"><div class=\"sk-item sk-dashed-wrapped\"><div class=\"sk-label-container\"><div class=\"sk-label sk-toggleable\"><input class=\"sk-toggleable__control sk-hidden--visually\" id=\"sk-estimator-id-18\" type=\"checkbox\" ><label for=\"sk-estimator-id-18\" class=\"sk-toggleable__label sk-toggleable__label-arrow\">preprocessor: ColumnTransformer</label><div class=\"sk-toggleable__content\"><pre>ColumnTransformer(transformers=[(&#x27;text&#x27;,\n",
       "                                 TfidfVectorizer(max_features=15000,\n",
       "                                                 ngram_range=(1, 2),\n",
       "                                                 stop_words=&#x27;english&#x27;),\n",
       "                                 &#x27;text&#x27;),\n",
       "                                (&#x27;sentiment&#x27;, &#x27;passthrough&#x27;,\n",
       "                                 [&#x27;neg&#x27;, &#x27;neu&#x27;, &#x27;pos&#x27;, &#x27;compound&#x27;])])</pre></div></div></div><div class=\"sk-parallel\"><div class=\"sk-parallel-item\"><div class=\"sk-item\"><div class=\"sk-label-container\"><div class=\"sk-label sk-toggleable\"><input class=\"sk-toggleable__control sk-hidden--visually\" id=\"sk-estimator-id-19\" type=\"checkbox\" ><label for=\"sk-estimator-id-19\" class=\"sk-toggleable__label sk-toggleable__label-arrow\">text</label><div class=\"sk-toggleable__content\"><pre>text</pre></div></div></div><div class=\"sk-serial\"><div class=\"sk-item\"><div class=\"sk-estimator sk-toggleable\"><input class=\"sk-toggleable__control sk-hidden--visually\" id=\"sk-estimator-id-20\" type=\"checkbox\" ><label for=\"sk-estimator-id-20\" class=\"sk-toggleable__label sk-toggleable__label-arrow\">TfidfVectorizer</label><div class=\"sk-toggleable__content\"><pre>TfidfVectorizer(max_features=15000, ngram_range=(1, 2), stop_words=&#x27;english&#x27;)</pre></div></div></div></div></div></div><div class=\"sk-parallel-item\"><div class=\"sk-item\"><div class=\"sk-label-container\"><div class=\"sk-label sk-toggleable\"><input class=\"sk-toggleable__control sk-hidden--visually\" id=\"sk-estimator-id-21\" type=\"checkbox\" ><label for=\"sk-estimator-id-21\" class=\"sk-toggleable__label sk-toggleable__label-arrow\">sentiment</label><div class=\"sk-toggleable__content\"><pre>[&#x27;neg&#x27;, &#x27;neu&#x27;, &#x27;pos&#x27;, &#x27;compound&#x27;]</pre></div></div></div><div class=\"sk-serial\"><div class=\"sk-item\"><div class=\"sk-estimator sk-toggleable\"><input class=\"sk-toggleable__control sk-hidden--visually\" id=\"sk-estimator-id-22\" type=\"checkbox\" ><label for=\"sk-estimator-id-22\" class=\"sk-toggleable__label sk-toggleable__label-arrow\">passthrough</label><div class=\"sk-toggleable__content\"><pre>passthrough</pre></div></div></div></div></div></div></div></div><div class=\"sk-item\"><div class=\"sk-estimator sk-toggleable\"><input class=\"sk-toggleable__control sk-hidden--visually\" id=\"sk-estimator-id-23\" type=\"checkbox\" ><label for=\"sk-estimator-id-23\" class=\"sk-toggleable__label sk-toggleable__label-arrow\">RandomForestClassifier</label><div class=\"sk-toggleable__content\"><pre>RandomForestClassifier()</pre></div></div></div></div></div></div></div></div></div></div></div></div>"
      ],
      "text/plain": [
       "GridSearchCV(cv=5,\n",
       "             estimator=Pipeline(steps=[('preprocessor',\n",
       "                                        ColumnTransformer(transformers=[('text',\n",
       "                                                                         TfidfVectorizer(max_features=15000,\n",
       "                                                                                         ngram_range=(1,\n",
       "                                                                                                      2),\n",
       "                                                                                         stop_words='english'),\n",
       "                                                                         'text'),\n",
       "                                                                        ('sentiment',\n",
       "                                                                         'passthrough',\n",
       "                                                                         ['neg',\n",
       "                                                                          'neu',\n",
       "                                                                          'pos',\n",
       "                                                                          'compound'])])),\n",
       "                                       ('rfc', RandomForestClassifier())]),\n",
       "             n_jobs=-1,\n",
       "             param_grid={'preprocessor__text__max_features': [10000, 15000,\n",
       "                                                              20000],\n",
       "                         'preprocessor__text__ngram_range': [(1, 1), (1, 2),\n",
       "                                                             (2, 2)],\n",
       "                         'rfc__max_depth': [None, 5, 10],\n",
       "                         'rfc__min_samples_split': [2, 5, 10],\n",
       "                         'rfc__n_estimators': [50, 100, 200]},\n",
       "             scoring='accuracy')"
      ]
     },
     "execution_count": 19,
     "metadata": {},
     "output_type": "execute_result"
    }
   ],
   "source": [
    "gs = GridSearchCV(pipe_rf, param_grid, cv=5, n_jobs=-1,scoring = 'accuracy')\n",
    "gs.fit(X_train, y_train)"
   ]
  },
  {
   "cell_type": "markdown",
   "id": "75372006",
   "metadata": {},
   "source": [
    "#### Refitting Random Forest Pipe with Best Parameters"
   ]
  },
  {
   "cell_type": "code",
   "execution_count": 20,
   "id": "f142781e",
   "metadata": {},
   "outputs": [
    {
     "data": {
      "text/html": [
       "<style>#sk-container-id-4 {color: black;background-color: white;}#sk-container-id-4 pre{padding: 0;}#sk-container-id-4 div.sk-toggleable {background-color: white;}#sk-container-id-4 label.sk-toggleable__label {cursor: pointer;display: block;width: 100%;margin-bottom: 0;padding: 0.3em;box-sizing: border-box;text-align: center;}#sk-container-id-4 label.sk-toggleable__label-arrow:before {content: \"▸\";float: left;margin-right: 0.25em;color: #696969;}#sk-container-id-4 label.sk-toggleable__label-arrow:hover:before {color: black;}#sk-container-id-4 div.sk-estimator:hover label.sk-toggleable__label-arrow:before {color: black;}#sk-container-id-4 div.sk-toggleable__content {max-height: 0;max-width: 0;overflow: hidden;text-align: left;background-color: #f0f8ff;}#sk-container-id-4 div.sk-toggleable__content pre {margin: 0.2em;color: black;border-radius: 0.25em;background-color: #f0f8ff;}#sk-container-id-4 input.sk-toggleable__control:checked~div.sk-toggleable__content {max-height: 200px;max-width: 100%;overflow: auto;}#sk-container-id-4 input.sk-toggleable__control:checked~label.sk-toggleable__label-arrow:before {content: \"▾\";}#sk-container-id-4 div.sk-estimator input.sk-toggleable__control:checked~label.sk-toggleable__label {background-color: #d4ebff;}#sk-container-id-4 div.sk-label input.sk-toggleable__control:checked~label.sk-toggleable__label {background-color: #d4ebff;}#sk-container-id-4 input.sk-hidden--visually {border: 0;clip: rect(1px 1px 1px 1px);clip: rect(1px, 1px, 1px, 1px);height: 1px;margin: -1px;overflow: hidden;padding: 0;position: absolute;width: 1px;}#sk-container-id-4 div.sk-estimator {font-family: monospace;background-color: #f0f8ff;border: 1px dotted black;border-radius: 0.25em;box-sizing: border-box;margin-bottom: 0.5em;}#sk-container-id-4 div.sk-estimator:hover {background-color: #d4ebff;}#sk-container-id-4 div.sk-parallel-item::after {content: \"\";width: 100%;border-bottom: 1px solid gray;flex-grow: 1;}#sk-container-id-4 div.sk-label:hover label.sk-toggleable__label {background-color: #d4ebff;}#sk-container-id-4 div.sk-serial::before {content: \"\";position: absolute;border-left: 1px solid gray;box-sizing: border-box;top: 0;bottom: 0;left: 50%;z-index: 0;}#sk-container-id-4 div.sk-serial {display: flex;flex-direction: column;align-items: center;background-color: white;padding-right: 0.2em;padding-left: 0.2em;position: relative;}#sk-container-id-4 div.sk-item {position: relative;z-index: 1;}#sk-container-id-4 div.sk-parallel {display: flex;align-items: stretch;justify-content: center;background-color: white;position: relative;}#sk-container-id-4 div.sk-item::before, #sk-container-id-4 div.sk-parallel-item::before {content: \"\";position: absolute;border-left: 1px solid gray;box-sizing: border-box;top: 0;bottom: 0;left: 50%;z-index: -1;}#sk-container-id-4 div.sk-parallel-item {display: flex;flex-direction: column;z-index: 1;position: relative;background-color: white;}#sk-container-id-4 div.sk-parallel-item:first-child::after {align-self: flex-end;width: 50%;}#sk-container-id-4 div.sk-parallel-item:last-child::after {align-self: flex-start;width: 50%;}#sk-container-id-4 div.sk-parallel-item:only-child::after {width: 0;}#sk-container-id-4 div.sk-dashed-wrapped {border: 1px dashed gray;margin: 0 0.4em 0.5em 0.4em;box-sizing: border-box;padding-bottom: 0.4em;background-color: white;}#sk-container-id-4 div.sk-label label {font-family: monospace;font-weight: bold;display: inline-block;line-height: 1.2em;}#sk-container-id-4 div.sk-label-container {text-align: center;}#sk-container-id-4 div.sk-container {/* jupyter's `normalize.less` sets `[hidden] { display: none; }` but bootstrap.min.css set `[hidden] { display: none !important; }` so we also need the `!important` here to be able to override the default hidden behavior on the sphinx rendered scikit-learn.org. See: https://github.com/scikit-learn/scikit-learn/issues/21755 */display: inline-block !important;position: relative;}#sk-container-id-4 div.sk-text-repr-fallback {display: none;}</style><div id=\"sk-container-id-4\" class=\"sk-top-container\"><div class=\"sk-text-repr-fallback\"><pre>Pipeline(steps=[(&#x27;preprocessor&#x27;,\n",
       "                 ColumnTransformer(transformers=[(&#x27;text&#x27;,\n",
       "                                                  TfidfVectorizer(max_features=10000,\n",
       "                                                                  ngram_range=(1,\n",
       "                                                                               2),\n",
       "                                                                  stop_words=&#x27;english&#x27;),\n",
       "                                                  &#x27;text&#x27;),\n",
       "                                                 (&#x27;sentiment&#x27;, &#x27;passthrough&#x27;,\n",
       "                                                  [&#x27;neg&#x27;, &#x27;neu&#x27;, &#x27;pos&#x27;,\n",
       "                                                   &#x27;compound&#x27;])])),\n",
       "                (&#x27;rfc&#x27;,\n",
       "                 RandomForestClassifier(min_samples_split=10,\n",
       "                                        n_estimators=200))])</pre><b>In a Jupyter environment, please rerun this cell to show the HTML representation or trust the notebook. <br />On GitHub, the HTML representation is unable to render, please try loading this page with nbviewer.org.</b></div><div class=\"sk-container\" hidden><div class=\"sk-item sk-dashed-wrapped\"><div class=\"sk-label-container\"><div class=\"sk-label sk-toggleable\"><input class=\"sk-toggleable__control sk-hidden--visually\" id=\"sk-estimator-id-24\" type=\"checkbox\" ><label for=\"sk-estimator-id-24\" class=\"sk-toggleable__label sk-toggleable__label-arrow\">Pipeline</label><div class=\"sk-toggleable__content\"><pre>Pipeline(steps=[(&#x27;preprocessor&#x27;,\n",
       "                 ColumnTransformer(transformers=[(&#x27;text&#x27;,\n",
       "                                                  TfidfVectorizer(max_features=10000,\n",
       "                                                                  ngram_range=(1,\n",
       "                                                                               2),\n",
       "                                                                  stop_words=&#x27;english&#x27;),\n",
       "                                                  &#x27;text&#x27;),\n",
       "                                                 (&#x27;sentiment&#x27;, &#x27;passthrough&#x27;,\n",
       "                                                  [&#x27;neg&#x27;, &#x27;neu&#x27;, &#x27;pos&#x27;,\n",
       "                                                   &#x27;compound&#x27;])])),\n",
       "                (&#x27;rfc&#x27;,\n",
       "                 RandomForestClassifier(min_samples_split=10,\n",
       "                                        n_estimators=200))])</pre></div></div></div><div class=\"sk-serial\"><div class=\"sk-item sk-dashed-wrapped\"><div class=\"sk-label-container\"><div class=\"sk-label sk-toggleable\"><input class=\"sk-toggleable__control sk-hidden--visually\" id=\"sk-estimator-id-25\" type=\"checkbox\" ><label for=\"sk-estimator-id-25\" class=\"sk-toggleable__label sk-toggleable__label-arrow\">preprocessor: ColumnTransformer</label><div class=\"sk-toggleable__content\"><pre>ColumnTransformer(transformers=[(&#x27;text&#x27;,\n",
       "                                 TfidfVectorizer(max_features=10000,\n",
       "                                                 ngram_range=(1, 2),\n",
       "                                                 stop_words=&#x27;english&#x27;),\n",
       "                                 &#x27;text&#x27;),\n",
       "                                (&#x27;sentiment&#x27;, &#x27;passthrough&#x27;,\n",
       "                                 [&#x27;neg&#x27;, &#x27;neu&#x27;, &#x27;pos&#x27;, &#x27;compound&#x27;])])</pre></div></div></div><div class=\"sk-parallel\"><div class=\"sk-parallel-item\"><div class=\"sk-item\"><div class=\"sk-label-container\"><div class=\"sk-label sk-toggleable\"><input class=\"sk-toggleable__control sk-hidden--visually\" id=\"sk-estimator-id-26\" type=\"checkbox\" ><label for=\"sk-estimator-id-26\" class=\"sk-toggleable__label sk-toggleable__label-arrow\">text</label><div class=\"sk-toggleable__content\"><pre>text</pre></div></div></div><div class=\"sk-serial\"><div class=\"sk-item\"><div class=\"sk-estimator sk-toggleable\"><input class=\"sk-toggleable__control sk-hidden--visually\" id=\"sk-estimator-id-27\" type=\"checkbox\" ><label for=\"sk-estimator-id-27\" class=\"sk-toggleable__label sk-toggleable__label-arrow\">TfidfVectorizer</label><div class=\"sk-toggleable__content\"><pre>TfidfVectorizer(max_features=10000, ngram_range=(1, 2), stop_words=&#x27;english&#x27;)</pre></div></div></div></div></div></div><div class=\"sk-parallel-item\"><div class=\"sk-item\"><div class=\"sk-label-container\"><div class=\"sk-label sk-toggleable\"><input class=\"sk-toggleable__control sk-hidden--visually\" id=\"sk-estimator-id-28\" type=\"checkbox\" ><label for=\"sk-estimator-id-28\" class=\"sk-toggleable__label sk-toggleable__label-arrow\">sentiment</label><div class=\"sk-toggleable__content\"><pre>[&#x27;neg&#x27;, &#x27;neu&#x27;, &#x27;pos&#x27;, &#x27;compound&#x27;]</pre></div></div></div><div class=\"sk-serial\"><div class=\"sk-item\"><div class=\"sk-estimator sk-toggleable\"><input class=\"sk-toggleable__control sk-hidden--visually\" id=\"sk-estimator-id-29\" type=\"checkbox\" ><label for=\"sk-estimator-id-29\" class=\"sk-toggleable__label sk-toggleable__label-arrow\">passthrough</label><div class=\"sk-toggleable__content\"><pre>passthrough</pre></div></div></div></div></div></div></div></div><div class=\"sk-item\"><div class=\"sk-estimator sk-toggleable\"><input class=\"sk-toggleable__control sk-hidden--visually\" id=\"sk-estimator-id-30\" type=\"checkbox\" ><label for=\"sk-estimator-id-30\" class=\"sk-toggleable__label sk-toggleable__label-arrow\">RandomForestClassifier</label><div class=\"sk-toggleable__content\"><pre>RandomForestClassifier(min_samples_split=10, n_estimators=200)</pre></div></div></div></div></div></div></div>"
      ],
      "text/plain": [
       "Pipeline(steps=[('preprocessor',\n",
       "                 ColumnTransformer(transformers=[('text',\n",
       "                                                  TfidfVectorizer(max_features=10000,\n",
       "                                                                  ngram_range=(1,\n",
       "                                                                               2),\n",
       "                                                                  stop_words='english'),\n",
       "                                                  'text'),\n",
       "                                                 ('sentiment', 'passthrough',\n",
       "                                                  ['neg', 'neu', 'pos',\n",
       "                                                   'compound'])])),\n",
       "                ('rfc',\n",
       "                 RandomForestClassifier(min_samples_split=10,\n",
       "                                        n_estimators=200))])"
      ]
     },
     "execution_count": 20,
     "metadata": {},
     "output_type": "execute_result"
    }
   ],
   "source": [
    "best_params_rf = gs.best_params_\n",
    "pipe_rf.set_params(**best_params_rf)\n",
    "pipe_rf.fit(X_train, y_train)"
   ]
  },
  {
   "cell_type": "markdown",
   "id": "7fb03db4",
   "metadata": {},
   "source": [
    "#### Generating Random Forest Predictions"
   ]
  },
  {
   "cell_type": "code",
   "execution_count": 21,
   "id": "5cd7d5e3",
   "metadata": {},
   "outputs": [],
   "source": [
    "y_pred_rf = pipe_rf.predict(X_test)\n",
    "y_score = pipe_rf.predict_proba(X_test)[:, 1]\n",
    "accuracy_rf = pipe_rf.score(X_test, y_test_rf)\n",
    "precision_rf = precision_score(y_test_rf, y_pred_rf)\n",
    "recall_rf = recall_score(y_test_rf, y_pred_rf)\n",
    "f1_rf = f1_score(y_test, y_pred_rf)"
   ]
  },
  {
   "cell_type": "code",
   "execution_count": 22,
   "id": "45681954",
   "metadata": {},
   "outputs": [
    {
     "name": "stdout",
     "output_type": "stream",
     "text": [
      "Accuracy: 0.8985835694050992\n",
      "Precision: 0.9085580304806565\n",
      "Recall: 0.884703196347032\n",
      "F1 score: 0.8964719491035281\n"
     ]
    }
   ],
   "source": [
    "print(f\"Accuracy: {accuracy_rf}\")\n",
    "print(f\"Precision: {precision_rf}\")\n",
    "print(f\"Recall: {recall_rf}\")\n",
    "print(f\"F1 score: {f1_rf}\")"
   ]
  },
  {
   "cell_type": "code",
   "execution_count": 23,
   "id": "79cd0fa2",
   "metadata": {},
   "outputs": [
    {
     "data": {
      "text/plain": [
       "{'preprocessor__text__max_features': 10000,\n",
       " 'preprocessor__text__ngram_range': (1, 2),\n",
       " 'rfc__max_depth': None,\n",
       " 'rfc__min_samples_split': 10,\n",
       " 'rfc__n_estimators': 200}"
      ]
     },
     "execution_count": 23,
     "metadata": {},
     "output_type": "execute_result"
    }
   ],
   "source": [
    "best_params_rf"
   ]
  },
  {
   "cell_type": "markdown",
   "id": "38e1922b",
   "metadata": {},
   "source": [
    "### Support Vector Machine\n",
    "\n",
    "The first pipeline will consist of a Support Vector Machine with a TF-IDF vectorizer for the text data. A Support Vector Machine (SVM) may be a good choice in comparison to other models such as a random forest or Naive Bayes for an NLP classification problem:\n",
    "\n",
    "1. Better performance on smaller datasets: SVMs can perform better than other models, such as random forests or neural networks, on smaller datasets.\n",
    "\n",
    "2. Robustness to noisy and irrelevant features: SVMs are effective at filtering out noisy or irrelevant features, making them a good choice for NLP problems where the feature space may be high-dimensional and sparse.\n",
    "\n",
    "3. Handling of non-linear relationships: SVMs are capable of modeling non-linear relationships between features and the target variable.\n",
    "\n",
    "\n",
    "We'll apply an SVM to our model and see if it provides the benefits stated above."
   ]
  },
  {
   "cell_type": "markdown",
   "id": "f64fe975",
   "metadata": {},
   "source": [
    "#### Setting up Preprocessors\n",
    "\n",
    "We'll setup our preprocessor in a similar way as before, but this time we'll have to shield our sentiment data from the scaler. Since we're using an SVM, scaling our data is paramount, as SVMs rely on distance-based measurements, such as the Euclidean distance, to calculate the distance between data points and to identify the optimal decision boundary. If the features are not on the same scale, those with larger values can dominate the calculation of distances and the optimization of the decision boundary, leading to suboptimal results.\n",
    "\n",
    "Since we are intending to scale only our text data, we'll have to add an additional step to sheild the sentiment data."
   ]
  },
  {
   "cell_type": "code",
   "execution_count": 24,
   "id": "2afb5ef9",
   "metadata": {},
   "outputs": [],
   "source": [
    "text_pipeline = Pipeline([\n",
    "    ('tfidf', TfidfVectorizer(stop_words='english')),\n",
    "    ('scaler', StandardScaler(with_mean=False))\n",
    "])\n",
    "\n",
    "sentiment_pipeline = Pipeline([\n",
    "    ('tfidf', TfidfVectorizer(stop_words='english')),\n",
    "    ('scaler', StandardScaler(with_mean=False))\n",
    "])\n",
    "\n",
    "preprocessor = ColumnTransformer(\n",
    "    transformers=[\n",
    "        ('text', text_pipeline, 'text'),\n",
    "        ('sentiment', sentiment_preprocessor, ['neg', 'neu', 'pos', 'compound']),\n",
    "        ('ss', StandardScaler(with_mean=False), ['neg', 'neu', 'pos', 'compound'])\n",
    "    ])"
   ]
  },
  {
   "cell_type": "markdown",
   "id": "352f272b",
   "metadata": {},
   "source": [
    "#### SVC Pipe"
   ]
  },
  {
   "cell_type": "code",
   "execution_count": 25,
   "id": "b05af64e",
   "metadata": {},
   "outputs": [],
   "source": [
    "pipe_svc = Pipeline([    \n",
    "    ('preprocessor', preprocessor),\n",
    "    ('svc', LinearSVC(class_weight='balanced',max_iter=1000))\n",
    "])"
   ]
  },
  {
   "cell_type": "markdown",
   "id": "8734afca",
   "metadata": {},
   "source": [
    "#### Train Test Split"
   ]
  },
  {
   "cell_type": "code",
   "execution_count": 26,
   "id": "91df9191",
   "metadata": {},
   "outputs": [],
   "source": [
    "X_train, X_test, y_train, y_test = train_test_split(X,y, test_size=0.2, random_state=2023)\n",
    "y_test_svm = y_test"
   ]
  },
  {
   "cell_type": "code",
   "execution_count": 27,
   "id": "6076e5db",
   "metadata": {},
   "outputs": [],
   "source": [
    "param_grid = {\n",
    "    'svc__C': [0.1, 1, 10],\n",
    "    'svc__class_weight': [None, 'balanced'],\n",
    "    'svc__loss': ['hinge', 'squared_hinge']\n",
    "}"
   ]
  },
  {
   "cell_type": "code",
   "execution_count": 28,
   "id": "f04e982d",
   "metadata": {},
   "outputs": [
    {
     "name": "stderr",
     "output_type": "stream",
     "text": [
      "/Users/ryan/miniconda3/envs/tf/lib/python3.9/site-packages/sklearn/svm/_base.py:1244: ConvergenceWarning: Liblinear failed to converge, increase the number of iterations.\n",
      "  warnings.warn(\n"
     ]
    },
    {
     "data": {
      "text/html": [
       "<style>#sk-container-id-5 {color: black;background-color: white;}#sk-container-id-5 pre{padding: 0;}#sk-container-id-5 div.sk-toggleable {background-color: white;}#sk-container-id-5 label.sk-toggleable__label {cursor: pointer;display: block;width: 100%;margin-bottom: 0;padding: 0.3em;box-sizing: border-box;text-align: center;}#sk-container-id-5 label.sk-toggleable__label-arrow:before {content: \"▸\";float: left;margin-right: 0.25em;color: #696969;}#sk-container-id-5 label.sk-toggleable__label-arrow:hover:before {color: black;}#sk-container-id-5 div.sk-estimator:hover label.sk-toggleable__label-arrow:before {color: black;}#sk-container-id-5 div.sk-toggleable__content {max-height: 0;max-width: 0;overflow: hidden;text-align: left;background-color: #f0f8ff;}#sk-container-id-5 div.sk-toggleable__content pre {margin: 0.2em;color: black;border-radius: 0.25em;background-color: #f0f8ff;}#sk-container-id-5 input.sk-toggleable__control:checked~div.sk-toggleable__content {max-height: 200px;max-width: 100%;overflow: auto;}#sk-container-id-5 input.sk-toggleable__control:checked~label.sk-toggleable__label-arrow:before {content: \"▾\";}#sk-container-id-5 div.sk-estimator input.sk-toggleable__control:checked~label.sk-toggleable__label {background-color: #d4ebff;}#sk-container-id-5 div.sk-label input.sk-toggleable__control:checked~label.sk-toggleable__label {background-color: #d4ebff;}#sk-container-id-5 input.sk-hidden--visually {border: 0;clip: rect(1px 1px 1px 1px);clip: rect(1px, 1px, 1px, 1px);height: 1px;margin: -1px;overflow: hidden;padding: 0;position: absolute;width: 1px;}#sk-container-id-5 div.sk-estimator {font-family: monospace;background-color: #f0f8ff;border: 1px dotted black;border-radius: 0.25em;box-sizing: border-box;margin-bottom: 0.5em;}#sk-container-id-5 div.sk-estimator:hover {background-color: #d4ebff;}#sk-container-id-5 div.sk-parallel-item::after {content: \"\";width: 100%;border-bottom: 1px solid gray;flex-grow: 1;}#sk-container-id-5 div.sk-label:hover label.sk-toggleable__label {background-color: #d4ebff;}#sk-container-id-5 div.sk-serial::before {content: \"\";position: absolute;border-left: 1px solid gray;box-sizing: border-box;top: 0;bottom: 0;left: 50%;z-index: 0;}#sk-container-id-5 div.sk-serial {display: flex;flex-direction: column;align-items: center;background-color: white;padding-right: 0.2em;padding-left: 0.2em;position: relative;}#sk-container-id-5 div.sk-item {position: relative;z-index: 1;}#sk-container-id-5 div.sk-parallel {display: flex;align-items: stretch;justify-content: center;background-color: white;position: relative;}#sk-container-id-5 div.sk-item::before, #sk-container-id-5 div.sk-parallel-item::before {content: \"\";position: absolute;border-left: 1px solid gray;box-sizing: border-box;top: 0;bottom: 0;left: 50%;z-index: -1;}#sk-container-id-5 div.sk-parallel-item {display: flex;flex-direction: column;z-index: 1;position: relative;background-color: white;}#sk-container-id-5 div.sk-parallel-item:first-child::after {align-self: flex-end;width: 50%;}#sk-container-id-5 div.sk-parallel-item:last-child::after {align-self: flex-start;width: 50%;}#sk-container-id-5 div.sk-parallel-item:only-child::after {width: 0;}#sk-container-id-5 div.sk-dashed-wrapped {border: 1px dashed gray;margin: 0 0.4em 0.5em 0.4em;box-sizing: border-box;padding-bottom: 0.4em;background-color: white;}#sk-container-id-5 div.sk-label label {font-family: monospace;font-weight: bold;display: inline-block;line-height: 1.2em;}#sk-container-id-5 div.sk-label-container {text-align: center;}#sk-container-id-5 div.sk-container {/* jupyter's `normalize.less` sets `[hidden] { display: none; }` but bootstrap.min.css set `[hidden] { display: none !important; }` so we also need the `!important` here to be able to override the default hidden behavior on the sphinx rendered scikit-learn.org. See: https://github.com/scikit-learn/scikit-learn/issues/21755 */display: inline-block !important;position: relative;}#sk-container-id-5 div.sk-text-repr-fallback {display: none;}</style><div id=\"sk-container-id-5\" class=\"sk-top-container\"><div class=\"sk-text-repr-fallback\"><pre>Pipeline(steps=[(&#x27;preprocessor&#x27;,\n",
       "                 ColumnTransformer(transformers=[(&#x27;text&#x27;,\n",
       "                                                  Pipeline(steps=[(&#x27;tfidf&#x27;,\n",
       "                                                                   TfidfVectorizer(stop_words=&#x27;english&#x27;)),\n",
       "                                                                  (&#x27;scaler&#x27;,\n",
       "                                                                   StandardScaler(with_mean=False))]),\n",
       "                                                  &#x27;text&#x27;),\n",
       "                                                 (&#x27;sentiment&#x27;, &#x27;passthrough&#x27;,\n",
       "                                                  [&#x27;neg&#x27;, &#x27;neu&#x27;, &#x27;pos&#x27;,\n",
       "                                                   &#x27;compound&#x27;]),\n",
       "                                                 (&#x27;ss&#x27;,\n",
       "                                                  StandardScaler(with_mean=False),\n",
       "                                                  [&#x27;neg&#x27;, &#x27;neu&#x27;, &#x27;pos&#x27;,\n",
       "                                                   &#x27;compound&#x27;])])),\n",
       "                (&#x27;svc&#x27;, LinearSVC(class_weight=&#x27;balanced&#x27;))])</pre><b>In a Jupyter environment, please rerun this cell to show the HTML representation or trust the notebook. <br />On GitHub, the HTML representation is unable to render, please try loading this page with nbviewer.org.</b></div><div class=\"sk-container\" hidden><div class=\"sk-item sk-dashed-wrapped\"><div class=\"sk-label-container\"><div class=\"sk-label sk-toggleable\"><input class=\"sk-toggleable__control sk-hidden--visually\" id=\"sk-estimator-id-31\" type=\"checkbox\" ><label for=\"sk-estimator-id-31\" class=\"sk-toggleable__label sk-toggleable__label-arrow\">Pipeline</label><div class=\"sk-toggleable__content\"><pre>Pipeline(steps=[(&#x27;preprocessor&#x27;,\n",
       "                 ColumnTransformer(transformers=[(&#x27;text&#x27;,\n",
       "                                                  Pipeline(steps=[(&#x27;tfidf&#x27;,\n",
       "                                                                   TfidfVectorizer(stop_words=&#x27;english&#x27;)),\n",
       "                                                                  (&#x27;scaler&#x27;,\n",
       "                                                                   StandardScaler(with_mean=False))]),\n",
       "                                                  &#x27;text&#x27;),\n",
       "                                                 (&#x27;sentiment&#x27;, &#x27;passthrough&#x27;,\n",
       "                                                  [&#x27;neg&#x27;, &#x27;neu&#x27;, &#x27;pos&#x27;,\n",
       "                                                   &#x27;compound&#x27;]),\n",
       "                                                 (&#x27;ss&#x27;,\n",
       "                                                  StandardScaler(with_mean=False),\n",
       "                                                  [&#x27;neg&#x27;, &#x27;neu&#x27;, &#x27;pos&#x27;,\n",
       "                                                   &#x27;compound&#x27;])])),\n",
       "                (&#x27;svc&#x27;, LinearSVC(class_weight=&#x27;balanced&#x27;))])</pre></div></div></div><div class=\"sk-serial\"><div class=\"sk-item sk-dashed-wrapped\"><div class=\"sk-label-container\"><div class=\"sk-label sk-toggleable\"><input class=\"sk-toggleable__control sk-hidden--visually\" id=\"sk-estimator-id-32\" type=\"checkbox\" ><label for=\"sk-estimator-id-32\" class=\"sk-toggleable__label sk-toggleable__label-arrow\">preprocessor: ColumnTransformer</label><div class=\"sk-toggleable__content\"><pre>ColumnTransformer(transformers=[(&#x27;text&#x27;,\n",
       "                                 Pipeline(steps=[(&#x27;tfidf&#x27;,\n",
       "                                                  TfidfVectorizer(stop_words=&#x27;english&#x27;)),\n",
       "                                                 (&#x27;scaler&#x27;,\n",
       "                                                  StandardScaler(with_mean=False))]),\n",
       "                                 &#x27;text&#x27;),\n",
       "                                (&#x27;sentiment&#x27;, &#x27;passthrough&#x27;,\n",
       "                                 [&#x27;neg&#x27;, &#x27;neu&#x27;, &#x27;pos&#x27;, &#x27;compound&#x27;]),\n",
       "                                (&#x27;ss&#x27;, StandardScaler(with_mean=False),\n",
       "                                 [&#x27;neg&#x27;, &#x27;neu&#x27;, &#x27;pos&#x27;, &#x27;compound&#x27;])])</pre></div></div></div><div class=\"sk-parallel\"><div class=\"sk-parallel-item\"><div class=\"sk-item\"><div class=\"sk-label-container\"><div class=\"sk-label sk-toggleable\"><input class=\"sk-toggleable__control sk-hidden--visually\" id=\"sk-estimator-id-33\" type=\"checkbox\" ><label for=\"sk-estimator-id-33\" class=\"sk-toggleable__label sk-toggleable__label-arrow\">text</label><div class=\"sk-toggleable__content\"><pre>text</pre></div></div></div><div class=\"sk-serial\"><div class=\"sk-item\"><div class=\"sk-serial\"><div class=\"sk-item\"><div class=\"sk-estimator sk-toggleable\"><input class=\"sk-toggleable__control sk-hidden--visually\" id=\"sk-estimator-id-34\" type=\"checkbox\" ><label for=\"sk-estimator-id-34\" class=\"sk-toggleable__label sk-toggleable__label-arrow\">TfidfVectorizer</label><div class=\"sk-toggleable__content\"><pre>TfidfVectorizer(stop_words=&#x27;english&#x27;)</pre></div></div></div><div class=\"sk-item\"><div class=\"sk-estimator sk-toggleable\"><input class=\"sk-toggleable__control sk-hidden--visually\" id=\"sk-estimator-id-35\" type=\"checkbox\" ><label for=\"sk-estimator-id-35\" class=\"sk-toggleable__label sk-toggleable__label-arrow\">StandardScaler</label><div class=\"sk-toggleable__content\"><pre>StandardScaler(with_mean=False)</pre></div></div></div></div></div></div></div></div><div class=\"sk-parallel-item\"><div class=\"sk-item\"><div class=\"sk-label-container\"><div class=\"sk-label sk-toggleable\"><input class=\"sk-toggleable__control sk-hidden--visually\" id=\"sk-estimator-id-36\" type=\"checkbox\" ><label for=\"sk-estimator-id-36\" class=\"sk-toggleable__label sk-toggleable__label-arrow\">sentiment</label><div class=\"sk-toggleable__content\"><pre>[&#x27;neg&#x27;, &#x27;neu&#x27;, &#x27;pos&#x27;, &#x27;compound&#x27;]</pre></div></div></div><div class=\"sk-serial\"><div class=\"sk-item\"><div class=\"sk-estimator sk-toggleable\"><input class=\"sk-toggleable__control sk-hidden--visually\" id=\"sk-estimator-id-37\" type=\"checkbox\" ><label for=\"sk-estimator-id-37\" class=\"sk-toggleable__label sk-toggleable__label-arrow\">passthrough</label><div class=\"sk-toggleable__content\"><pre>passthrough</pre></div></div></div></div></div></div><div class=\"sk-parallel-item\"><div class=\"sk-item\"><div class=\"sk-label-container\"><div class=\"sk-label sk-toggleable\"><input class=\"sk-toggleable__control sk-hidden--visually\" id=\"sk-estimator-id-38\" type=\"checkbox\" ><label for=\"sk-estimator-id-38\" class=\"sk-toggleable__label sk-toggleable__label-arrow\">ss</label><div class=\"sk-toggleable__content\"><pre>[&#x27;neg&#x27;, &#x27;neu&#x27;, &#x27;pos&#x27;, &#x27;compound&#x27;]</pre></div></div></div><div class=\"sk-serial\"><div class=\"sk-item\"><div class=\"sk-estimator sk-toggleable\"><input class=\"sk-toggleable__control sk-hidden--visually\" id=\"sk-estimator-id-39\" type=\"checkbox\" ><label for=\"sk-estimator-id-39\" class=\"sk-toggleable__label sk-toggleable__label-arrow\">StandardScaler</label><div class=\"sk-toggleable__content\"><pre>StandardScaler(with_mean=False)</pre></div></div></div></div></div></div></div></div><div class=\"sk-item\"><div class=\"sk-estimator sk-toggleable\"><input class=\"sk-toggleable__control sk-hidden--visually\" id=\"sk-estimator-id-40\" type=\"checkbox\" ><label for=\"sk-estimator-id-40\" class=\"sk-toggleable__label sk-toggleable__label-arrow\">LinearSVC</label><div class=\"sk-toggleable__content\"><pre>LinearSVC(class_weight=&#x27;balanced&#x27;)</pre></div></div></div></div></div></div></div>"
      ],
      "text/plain": [
       "Pipeline(steps=[('preprocessor',\n",
       "                 ColumnTransformer(transformers=[('text',\n",
       "                                                  Pipeline(steps=[('tfidf',\n",
       "                                                                   TfidfVectorizer(stop_words='english')),\n",
       "                                                                  ('scaler',\n",
       "                                                                   StandardScaler(with_mean=False))]),\n",
       "                                                  'text'),\n",
       "                                                 ('sentiment', 'passthrough',\n",
       "                                                  ['neg', 'neu', 'pos',\n",
       "                                                   'compound']),\n",
       "                                                 ('ss',\n",
       "                                                  StandardScaler(with_mean=False),\n",
       "                                                  ['neg', 'neu', 'pos',\n",
       "                                                   'compound'])])),\n",
       "                ('svc', LinearSVC(class_weight='balanced'))])"
      ]
     },
     "execution_count": 28,
     "metadata": {},
     "output_type": "execute_result"
    }
   ],
   "source": [
    "pipe_svc.fit(X_train, y_train)"
   ]
  },
  {
   "cell_type": "markdown",
   "id": "c82a5987",
   "metadata": {},
   "source": [
    "#### Instantiating and fitting GridSearch"
   ]
  },
  {
   "cell_type": "code",
   "execution_count": 29,
   "id": "e95447ad",
   "metadata": {},
   "outputs": [],
   "source": [
    "gs = GridSearchCV(pipe_svc, param_grid=param_grid, cv=5, n_jobs=-1,scoring = 'accuracy')"
   ]
  },
  {
   "cell_type": "code",
   "execution_count": 30,
   "id": "539bcce2",
   "metadata": {},
   "outputs": [
    {
     "name": "stderr",
     "output_type": "stream",
     "text": [
      "/Users/ryan/miniconda3/envs/tf/lib/python3.9/site-packages/sklearn/svm/_base.py:1244: ConvergenceWarning: Liblinear failed to converge, increase the number of iterations.\n",
      "  warnings.warn(\n",
      "/Users/ryan/miniconda3/envs/tf/lib/python3.9/site-packages/sklearn/svm/_base.py:1244: ConvergenceWarning: Liblinear failed to converge, increase the number of iterations.\n",
      "  warnings.warn(\n",
      "/Users/ryan/miniconda3/envs/tf/lib/python3.9/site-packages/sklearn/svm/_base.py:1244: ConvergenceWarning: Liblinear failed to converge, increase the number of iterations.\n",
      "  warnings.warn(\n",
      "/Users/ryan/miniconda3/envs/tf/lib/python3.9/site-packages/sklearn/svm/_base.py:1244: ConvergenceWarning: Liblinear failed to converge, increase the number of iterations.\n",
      "  warnings.warn(\n",
      "/Users/ryan/miniconda3/envs/tf/lib/python3.9/site-packages/sklearn/svm/_base.py:1244: ConvergenceWarning: Liblinear failed to converge, increase the number of iterations.\n",
      "  warnings.warn(\n",
      "/Users/ryan/miniconda3/envs/tf/lib/python3.9/site-packages/sklearn/svm/_base.py:1244: ConvergenceWarning: Liblinear failed to converge, increase the number of iterations.\n",
      "  warnings.warn(\n",
      "/Users/ryan/miniconda3/envs/tf/lib/python3.9/site-packages/sklearn/svm/_base.py:1244: ConvergenceWarning: Liblinear failed to converge, increase the number of iterations.\n",
      "  warnings.warn(\n",
      "/Users/ryan/miniconda3/envs/tf/lib/python3.9/site-packages/sklearn/svm/_base.py:1244: ConvergenceWarning: Liblinear failed to converge, increase the number of iterations.\n",
      "  warnings.warn(\n",
      "/Users/ryan/miniconda3/envs/tf/lib/python3.9/site-packages/sklearn/svm/_base.py:1244: ConvergenceWarning: Liblinear failed to converge, increase the number of iterations.\n",
      "  warnings.warn(\n",
      "/Users/ryan/miniconda3/envs/tf/lib/python3.9/site-packages/sklearn/svm/_base.py:1244: ConvergenceWarning: Liblinear failed to converge, increase the number of iterations.\n",
      "  warnings.warn(\n",
      "/Users/ryan/miniconda3/envs/tf/lib/python3.9/site-packages/sklearn/svm/_base.py:1244: ConvergenceWarning: Liblinear failed to converge, increase the number of iterations.\n",
      "  warnings.warn(\n",
      "/Users/ryan/miniconda3/envs/tf/lib/python3.9/site-packages/sklearn/svm/_base.py:1244: ConvergenceWarning: Liblinear failed to converge, increase the number of iterations.\n",
      "  warnings.warn(\n",
      "/Users/ryan/miniconda3/envs/tf/lib/python3.9/site-packages/sklearn/svm/_base.py:1244: ConvergenceWarning: Liblinear failed to converge, increase the number of iterations.\n",
      "  warnings.warn(\n",
      "/Users/ryan/miniconda3/envs/tf/lib/python3.9/site-packages/sklearn/svm/_base.py:1244: ConvergenceWarning: Liblinear failed to converge, increase the number of iterations.\n",
      "  warnings.warn(\n",
      "/Users/ryan/miniconda3/envs/tf/lib/python3.9/site-packages/sklearn/svm/_base.py:1244: ConvergenceWarning: Liblinear failed to converge, increase the number of iterations.\n",
      "  warnings.warn(\n",
      "/Users/ryan/miniconda3/envs/tf/lib/python3.9/site-packages/sklearn/svm/_base.py:1244: ConvergenceWarning: Liblinear failed to converge, increase the number of iterations.\n",
      "  warnings.warn(\n",
      "/Users/ryan/miniconda3/envs/tf/lib/python3.9/site-packages/sklearn/svm/_base.py:1244: ConvergenceWarning: Liblinear failed to converge, increase the number of iterations.\n",
      "  warnings.warn(\n",
      "/Users/ryan/miniconda3/envs/tf/lib/python3.9/site-packages/sklearn/svm/_base.py:1244: ConvergenceWarning: Liblinear failed to converge, increase the number of iterations.\n",
      "  warnings.warn(\n",
      "/Users/ryan/miniconda3/envs/tf/lib/python3.9/site-packages/sklearn/svm/_base.py:1244: ConvergenceWarning: Liblinear failed to converge, increase the number of iterations.\n",
      "  warnings.warn(\n",
      "/Users/ryan/miniconda3/envs/tf/lib/python3.9/site-packages/sklearn/svm/_base.py:1244: ConvergenceWarning: Liblinear failed to converge, increase the number of iterations.\n",
      "  warnings.warn(\n",
      "/Users/ryan/miniconda3/envs/tf/lib/python3.9/site-packages/sklearn/svm/_base.py:1244: ConvergenceWarning: Liblinear failed to converge, increase the number of iterations.\n",
      "  warnings.warn(\n",
      "/Users/ryan/miniconda3/envs/tf/lib/python3.9/site-packages/sklearn/svm/_base.py:1244: ConvergenceWarning: Liblinear failed to converge, increase the number of iterations.\n",
      "  warnings.warn(\n",
      "/Users/ryan/miniconda3/envs/tf/lib/python3.9/site-packages/sklearn/svm/_base.py:1244: ConvergenceWarning: Liblinear failed to converge, increase the number of iterations.\n",
      "  warnings.warn(\n",
      "/Users/ryan/miniconda3/envs/tf/lib/python3.9/site-packages/sklearn/svm/_base.py:1244: ConvergenceWarning: Liblinear failed to converge, increase the number of iterations.\n",
      "  warnings.warn(\n",
      "/Users/ryan/miniconda3/envs/tf/lib/python3.9/site-packages/sklearn/svm/_base.py:1244: ConvergenceWarning: Liblinear failed to converge, increase the number of iterations.\n",
      "  warnings.warn(\n",
      "/Users/ryan/miniconda3/envs/tf/lib/python3.9/site-packages/sklearn/svm/_base.py:1244: ConvergenceWarning: Liblinear failed to converge, increase the number of iterations.\n",
      "  warnings.warn(\n",
      "/Users/ryan/miniconda3/envs/tf/lib/python3.9/site-packages/sklearn/svm/_base.py:1244: ConvergenceWarning: Liblinear failed to converge, increase the number of iterations.\n",
      "  warnings.warn(\n",
      "/Users/ryan/miniconda3/envs/tf/lib/python3.9/site-packages/sklearn/svm/_base.py:1244: ConvergenceWarning: Liblinear failed to converge, increase the number of iterations.\n",
      "  warnings.warn(\n",
      "/Users/ryan/miniconda3/envs/tf/lib/python3.9/site-packages/sklearn/svm/_base.py:1244: ConvergenceWarning: Liblinear failed to converge, increase the number of iterations.\n",
      "  warnings.warn(\n",
      "/Users/ryan/miniconda3/envs/tf/lib/python3.9/site-packages/sklearn/svm/_base.py:1244: ConvergenceWarning: Liblinear failed to converge, increase the number of iterations.\n",
      "  warnings.warn(\n",
      "/Users/ryan/miniconda3/envs/tf/lib/python3.9/site-packages/sklearn/svm/_base.py:1244: ConvergenceWarning: Liblinear failed to converge, increase the number of iterations.\n",
      "  warnings.warn(\n",
      "/Users/ryan/miniconda3/envs/tf/lib/python3.9/site-packages/sklearn/svm/_base.py:1244: ConvergenceWarning: Liblinear failed to converge, increase the number of iterations.\n",
      "  warnings.warn(\n",
      "/Users/ryan/miniconda3/envs/tf/lib/python3.9/site-packages/sklearn/svm/_base.py:1244: ConvergenceWarning: Liblinear failed to converge, increase the number of iterations.\n",
      "  warnings.warn(\n",
      "/Users/ryan/miniconda3/envs/tf/lib/python3.9/site-packages/sklearn/svm/_base.py:1244: ConvergenceWarning: Liblinear failed to converge, increase the number of iterations.\n",
      "  warnings.warn(\n",
      "/Users/ryan/miniconda3/envs/tf/lib/python3.9/site-packages/sklearn/svm/_base.py:1244: ConvergenceWarning: Liblinear failed to converge, increase the number of iterations.\n",
      "  warnings.warn(\n",
      "/Users/ryan/miniconda3/envs/tf/lib/python3.9/site-packages/sklearn/svm/_base.py:1244: ConvergenceWarning: Liblinear failed to converge, increase the number of iterations.\n",
      "  warnings.warn(\n",
      "/Users/ryan/miniconda3/envs/tf/lib/python3.9/site-packages/sklearn/svm/_base.py:1244: ConvergenceWarning: Liblinear failed to converge, increase the number of iterations.\n",
      "  warnings.warn(\n",
      "/Users/ryan/miniconda3/envs/tf/lib/python3.9/site-packages/sklearn/svm/_base.py:1244: ConvergenceWarning: Liblinear failed to converge, increase the number of iterations.\n",
      "  warnings.warn(\n",
      "/Users/ryan/miniconda3/envs/tf/lib/python3.9/site-packages/sklearn/svm/_base.py:1244: ConvergenceWarning: Liblinear failed to converge, increase the number of iterations.\n",
      "  warnings.warn(\n",
      "/Users/ryan/miniconda3/envs/tf/lib/python3.9/site-packages/sklearn/svm/_base.py:1244: ConvergenceWarning: Liblinear failed to converge, increase the number of iterations.\n",
      "  warnings.warn(\n",
      "/Users/ryan/miniconda3/envs/tf/lib/python3.9/site-packages/sklearn/svm/_base.py:1244: ConvergenceWarning: Liblinear failed to converge, increase the number of iterations.\n",
      "  warnings.warn(\n",
      "/Users/ryan/miniconda3/envs/tf/lib/python3.9/site-packages/sklearn/svm/_base.py:1244: ConvergenceWarning: Liblinear failed to converge, increase the number of iterations.\n",
      "  warnings.warn(\n",
      "/Users/ryan/miniconda3/envs/tf/lib/python3.9/site-packages/sklearn/svm/_base.py:1244: ConvergenceWarning: Liblinear failed to converge, increase the number of iterations.\n",
      "  warnings.warn(\n",
      "/Users/ryan/miniconda3/envs/tf/lib/python3.9/site-packages/sklearn/svm/_base.py:1244: ConvergenceWarning: Liblinear failed to converge, increase the number of iterations.\n",
      "  warnings.warn(\n",
      "/Users/ryan/miniconda3/envs/tf/lib/python3.9/site-packages/sklearn/svm/_base.py:1244: ConvergenceWarning: Liblinear failed to converge, increase the number of iterations.\n",
      "  warnings.warn(\n"
     ]
    },
    {
     "name": "stderr",
     "output_type": "stream",
     "text": [
      "/Users/ryan/miniconda3/envs/tf/lib/python3.9/site-packages/sklearn/svm/_base.py:1244: ConvergenceWarning: Liblinear failed to converge, increase the number of iterations.\n",
      "  warnings.warn(\n",
      "/Users/ryan/miniconda3/envs/tf/lib/python3.9/site-packages/sklearn/svm/_base.py:1244: ConvergenceWarning: Liblinear failed to converge, increase the number of iterations.\n",
      "  warnings.warn(\n",
      "/Users/ryan/miniconda3/envs/tf/lib/python3.9/site-packages/sklearn/svm/_base.py:1244: ConvergenceWarning: Liblinear failed to converge, increase the number of iterations.\n",
      "  warnings.warn(\n",
      "/Users/ryan/miniconda3/envs/tf/lib/python3.9/site-packages/sklearn/svm/_base.py:1244: ConvergenceWarning: Liblinear failed to converge, increase the number of iterations.\n",
      "  warnings.warn(\n",
      "/Users/ryan/miniconda3/envs/tf/lib/python3.9/site-packages/sklearn/svm/_base.py:1244: ConvergenceWarning: Liblinear failed to converge, increase the number of iterations.\n",
      "  warnings.warn(\n",
      "/Users/ryan/miniconda3/envs/tf/lib/python3.9/site-packages/sklearn/svm/_base.py:1244: ConvergenceWarning: Liblinear failed to converge, increase the number of iterations.\n",
      "  warnings.warn(\n",
      "/Users/ryan/miniconda3/envs/tf/lib/python3.9/site-packages/sklearn/svm/_base.py:1244: ConvergenceWarning: Liblinear failed to converge, increase the number of iterations.\n",
      "  warnings.warn(\n",
      "/Users/ryan/miniconda3/envs/tf/lib/python3.9/site-packages/sklearn/svm/_base.py:1244: ConvergenceWarning: Liblinear failed to converge, increase the number of iterations.\n",
      "  warnings.warn(\n",
      "/Users/ryan/miniconda3/envs/tf/lib/python3.9/site-packages/sklearn/svm/_base.py:1244: ConvergenceWarning: Liblinear failed to converge, increase the number of iterations.\n",
      "  warnings.warn(\n",
      "/Users/ryan/miniconda3/envs/tf/lib/python3.9/site-packages/sklearn/svm/_base.py:1244: ConvergenceWarning: Liblinear failed to converge, increase the number of iterations.\n",
      "  warnings.warn(\n",
      "/Users/ryan/miniconda3/envs/tf/lib/python3.9/site-packages/sklearn/svm/_base.py:1244: ConvergenceWarning: Liblinear failed to converge, increase the number of iterations.\n",
      "  warnings.warn(\n",
      "/Users/ryan/miniconda3/envs/tf/lib/python3.9/site-packages/sklearn/svm/_base.py:1244: ConvergenceWarning: Liblinear failed to converge, increase the number of iterations.\n",
      "  warnings.warn(\n",
      "/Users/ryan/miniconda3/envs/tf/lib/python3.9/site-packages/sklearn/svm/_base.py:1244: ConvergenceWarning: Liblinear failed to converge, increase the number of iterations.\n",
      "  warnings.warn(\n"
     ]
    },
    {
     "data": {
      "text/html": [
       "<style>#sk-container-id-6 {color: black;background-color: white;}#sk-container-id-6 pre{padding: 0;}#sk-container-id-6 div.sk-toggleable {background-color: white;}#sk-container-id-6 label.sk-toggleable__label {cursor: pointer;display: block;width: 100%;margin-bottom: 0;padding: 0.3em;box-sizing: border-box;text-align: center;}#sk-container-id-6 label.sk-toggleable__label-arrow:before {content: \"▸\";float: left;margin-right: 0.25em;color: #696969;}#sk-container-id-6 label.sk-toggleable__label-arrow:hover:before {color: black;}#sk-container-id-6 div.sk-estimator:hover label.sk-toggleable__label-arrow:before {color: black;}#sk-container-id-6 div.sk-toggleable__content {max-height: 0;max-width: 0;overflow: hidden;text-align: left;background-color: #f0f8ff;}#sk-container-id-6 div.sk-toggleable__content pre {margin: 0.2em;color: black;border-radius: 0.25em;background-color: #f0f8ff;}#sk-container-id-6 input.sk-toggleable__control:checked~div.sk-toggleable__content {max-height: 200px;max-width: 100%;overflow: auto;}#sk-container-id-6 input.sk-toggleable__control:checked~label.sk-toggleable__label-arrow:before {content: \"▾\";}#sk-container-id-6 div.sk-estimator input.sk-toggleable__control:checked~label.sk-toggleable__label {background-color: #d4ebff;}#sk-container-id-6 div.sk-label input.sk-toggleable__control:checked~label.sk-toggleable__label {background-color: #d4ebff;}#sk-container-id-6 input.sk-hidden--visually {border: 0;clip: rect(1px 1px 1px 1px);clip: rect(1px, 1px, 1px, 1px);height: 1px;margin: -1px;overflow: hidden;padding: 0;position: absolute;width: 1px;}#sk-container-id-6 div.sk-estimator {font-family: monospace;background-color: #f0f8ff;border: 1px dotted black;border-radius: 0.25em;box-sizing: border-box;margin-bottom: 0.5em;}#sk-container-id-6 div.sk-estimator:hover {background-color: #d4ebff;}#sk-container-id-6 div.sk-parallel-item::after {content: \"\";width: 100%;border-bottom: 1px solid gray;flex-grow: 1;}#sk-container-id-6 div.sk-label:hover label.sk-toggleable__label {background-color: #d4ebff;}#sk-container-id-6 div.sk-serial::before {content: \"\";position: absolute;border-left: 1px solid gray;box-sizing: border-box;top: 0;bottom: 0;left: 50%;z-index: 0;}#sk-container-id-6 div.sk-serial {display: flex;flex-direction: column;align-items: center;background-color: white;padding-right: 0.2em;padding-left: 0.2em;position: relative;}#sk-container-id-6 div.sk-item {position: relative;z-index: 1;}#sk-container-id-6 div.sk-parallel {display: flex;align-items: stretch;justify-content: center;background-color: white;position: relative;}#sk-container-id-6 div.sk-item::before, #sk-container-id-6 div.sk-parallel-item::before {content: \"\";position: absolute;border-left: 1px solid gray;box-sizing: border-box;top: 0;bottom: 0;left: 50%;z-index: -1;}#sk-container-id-6 div.sk-parallel-item {display: flex;flex-direction: column;z-index: 1;position: relative;background-color: white;}#sk-container-id-6 div.sk-parallel-item:first-child::after {align-self: flex-end;width: 50%;}#sk-container-id-6 div.sk-parallel-item:last-child::after {align-self: flex-start;width: 50%;}#sk-container-id-6 div.sk-parallel-item:only-child::after {width: 0;}#sk-container-id-6 div.sk-dashed-wrapped {border: 1px dashed gray;margin: 0 0.4em 0.5em 0.4em;box-sizing: border-box;padding-bottom: 0.4em;background-color: white;}#sk-container-id-6 div.sk-label label {font-family: monospace;font-weight: bold;display: inline-block;line-height: 1.2em;}#sk-container-id-6 div.sk-label-container {text-align: center;}#sk-container-id-6 div.sk-container {/* jupyter's `normalize.less` sets `[hidden] { display: none; }` but bootstrap.min.css set `[hidden] { display: none !important; }` so we also need the `!important` here to be able to override the default hidden behavior on the sphinx rendered scikit-learn.org. See: https://github.com/scikit-learn/scikit-learn/issues/21755 */display: inline-block !important;position: relative;}#sk-container-id-6 div.sk-text-repr-fallback {display: none;}</style><div id=\"sk-container-id-6\" class=\"sk-top-container\"><div class=\"sk-text-repr-fallback\"><pre>GridSearchCV(cv=5,\n",
       "             estimator=Pipeline(steps=[(&#x27;preprocessor&#x27;,\n",
       "                                        ColumnTransformer(transformers=[(&#x27;text&#x27;,\n",
       "                                                                         Pipeline(steps=[(&#x27;tfidf&#x27;,\n",
       "                                                                                          TfidfVectorizer(stop_words=&#x27;english&#x27;)),\n",
       "                                                                                         (&#x27;scaler&#x27;,\n",
       "                                                                                          StandardScaler(with_mean=False))]),\n",
       "                                                                         &#x27;text&#x27;),\n",
       "                                                                        (&#x27;sentiment&#x27;,\n",
       "                                                                         &#x27;passthrough&#x27;,\n",
       "                                                                         [&#x27;neg&#x27;,\n",
       "                                                                          &#x27;neu&#x27;,\n",
       "                                                                          &#x27;pos&#x27;,\n",
       "                                                                          &#x27;compound&#x27;]),\n",
       "                                                                        (&#x27;ss&#x27;,\n",
       "                                                                         StandardScaler(with_mean=False),\n",
       "                                                                         [&#x27;neg&#x27;,\n",
       "                                                                          &#x27;neu&#x27;,\n",
       "                                                                          &#x27;pos&#x27;,\n",
       "                                                                          &#x27;compound&#x27;])])),\n",
       "                                       (&#x27;svc&#x27;,\n",
       "                                        LinearSVC(class_weight=&#x27;balanced&#x27;))]),\n",
       "             n_jobs=-1,\n",
       "             param_grid={&#x27;svc__C&#x27;: [0.1, 1, 10],\n",
       "                         &#x27;svc__class_weight&#x27;: [None, &#x27;balanced&#x27;],\n",
       "                         &#x27;svc__loss&#x27;: [&#x27;hinge&#x27;, &#x27;squared_hinge&#x27;]},\n",
       "             scoring=&#x27;accuracy&#x27;)</pre><b>In a Jupyter environment, please rerun this cell to show the HTML representation or trust the notebook. <br />On GitHub, the HTML representation is unable to render, please try loading this page with nbviewer.org.</b></div><div class=\"sk-container\" hidden><div class=\"sk-item sk-dashed-wrapped\"><div class=\"sk-label-container\"><div class=\"sk-label sk-toggleable\"><input class=\"sk-toggleable__control sk-hidden--visually\" id=\"sk-estimator-id-41\" type=\"checkbox\" ><label for=\"sk-estimator-id-41\" class=\"sk-toggleable__label sk-toggleable__label-arrow\">GridSearchCV</label><div class=\"sk-toggleable__content\"><pre>GridSearchCV(cv=5,\n",
       "             estimator=Pipeline(steps=[(&#x27;preprocessor&#x27;,\n",
       "                                        ColumnTransformer(transformers=[(&#x27;text&#x27;,\n",
       "                                                                         Pipeline(steps=[(&#x27;tfidf&#x27;,\n",
       "                                                                                          TfidfVectorizer(stop_words=&#x27;english&#x27;)),\n",
       "                                                                                         (&#x27;scaler&#x27;,\n",
       "                                                                                          StandardScaler(with_mean=False))]),\n",
       "                                                                         &#x27;text&#x27;),\n",
       "                                                                        (&#x27;sentiment&#x27;,\n",
       "                                                                         &#x27;passthrough&#x27;,\n",
       "                                                                         [&#x27;neg&#x27;,\n",
       "                                                                          &#x27;neu&#x27;,\n",
       "                                                                          &#x27;pos&#x27;,\n",
       "                                                                          &#x27;compound&#x27;]),\n",
       "                                                                        (&#x27;ss&#x27;,\n",
       "                                                                         StandardScaler(with_mean=False),\n",
       "                                                                         [&#x27;neg&#x27;,\n",
       "                                                                          &#x27;neu&#x27;,\n",
       "                                                                          &#x27;pos&#x27;,\n",
       "                                                                          &#x27;compound&#x27;])])),\n",
       "                                       (&#x27;svc&#x27;,\n",
       "                                        LinearSVC(class_weight=&#x27;balanced&#x27;))]),\n",
       "             n_jobs=-1,\n",
       "             param_grid={&#x27;svc__C&#x27;: [0.1, 1, 10],\n",
       "                         &#x27;svc__class_weight&#x27;: [None, &#x27;balanced&#x27;],\n",
       "                         &#x27;svc__loss&#x27;: [&#x27;hinge&#x27;, &#x27;squared_hinge&#x27;]},\n",
       "             scoring=&#x27;accuracy&#x27;)</pre></div></div></div><div class=\"sk-parallel\"><div class=\"sk-parallel-item\"><div class=\"sk-item\"><div class=\"sk-label-container\"><div class=\"sk-label sk-toggleable\"><input class=\"sk-toggleable__control sk-hidden--visually\" id=\"sk-estimator-id-42\" type=\"checkbox\" ><label for=\"sk-estimator-id-42\" class=\"sk-toggleable__label sk-toggleable__label-arrow\">estimator: Pipeline</label><div class=\"sk-toggleable__content\"><pre>Pipeline(steps=[(&#x27;preprocessor&#x27;,\n",
       "                 ColumnTransformer(transformers=[(&#x27;text&#x27;,\n",
       "                                                  Pipeline(steps=[(&#x27;tfidf&#x27;,\n",
       "                                                                   TfidfVectorizer(stop_words=&#x27;english&#x27;)),\n",
       "                                                                  (&#x27;scaler&#x27;,\n",
       "                                                                   StandardScaler(with_mean=False))]),\n",
       "                                                  &#x27;text&#x27;),\n",
       "                                                 (&#x27;sentiment&#x27;, &#x27;passthrough&#x27;,\n",
       "                                                  [&#x27;neg&#x27;, &#x27;neu&#x27;, &#x27;pos&#x27;,\n",
       "                                                   &#x27;compound&#x27;]),\n",
       "                                                 (&#x27;ss&#x27;,\n",
       "                                                  StandardScaler(with_mean=False),\n",
       "                                                  [&#x27;neg&#x27;, &#x27;neu&#x27;, &#x27;pos&#x27;,\n",
       "                                                   &#x27;compound&#x27;])])),\n",
       "                (&#x27;svc&#x27;, LinearSVC(class_weight=&#x27;balanced&#x27;))])</pre></div></div></div><div class=\"sk-serial\"><div class=\"sk-item\"><div class=\"sk-serial\"><div class=\"sk-item sk-dashed-wrapped\"><div class=\"sk-label-container\"><div class=\"sk-label sk-toggleable\"><input class=\"sk-toggleable__control sk-hidden--visually\" id=\"sk-estimator-id-43\" type=\"checkbox\" ><label for=\"sk-estimator-id-43\" class=\"sk-toggleable__label sk-toggleable__label-arrow\">preprocessor: ColumnTransformer</label><div class=\"sk-toggleable__content\"><pre>ColumnTransformer(transformers=[(&#x27;text&#x27;,\n",
       "                                 Pipeline(steps=[(&#x27;tfidf&#x27;,\n",
       "                                                  TfidfVectorizer(stop_words=&#x27;english&#x27;)),\n",
       "                                                 (&#x27;scaler&#x27;,\n",
       "                                                  StandardScaler(with_mean=False))]),\n",
       "                                 &#x27;text&#x27;),\n",
       "                                (&#x27;sentiment&#x27;, &#x27;passthrough&#x27;,\n",
       "                                 [&#x27;neg&#x27;, &#x27;neu&#x27;, &#x27;pos&#x27;, &#x27;compound&#x27;]),\n",
       "                                (&#x27;ss&#x27;, StandardScaler(with_mean=False),\n",
       "                                 [&#x27;neg&#x27;, &#x27;neu&#x27;, &#x27;pos&#x27;, &#x27;compound&#x27;])])</pre></div></div></div><div class=\"sk-parallel\"><div class=\"sk-parallel-item\"><div class=\"sk-item\"><div class=\"sk-label-container\"><div class=\"sk-label sk-toggleable\"><input class=\"sk-toggleable__control sk-hidden--visually\" id=\"sk-estimator-id-44\" type=\"checkbox\" ><label for=\"sk-estimator-id-44\" class=\"sk-toggleable__label sk-toggleable__label-arrow\">text</label><div class=\"sk-toggleable__content\"><pre>text</pre></div></div></div><div class=\"sk-serial\"><div class=\"sk-item\"><div class=\"sk-serial\"><div class=\"sk-item\"><div class=\"sk-estimator sk-toggleable\"><input class=\"sk-toggleable__control sk-hidden--visually\" id=\"sk-estimator-id-45\" type=\"checkbox\" ><label for=\"sk-estimator-id-45\" class=\"sk-toggleable__label sk-toggleable__label-arrow\">TfidfVectorizer</label><div class=\"sk-toggleable__content\"><pre>TfidfVectorizer(stop_words=&#x27;english&#x27;)</pre></div></div></div><div class=\"sk-item\"><div class=\"sk-estimator sk-toggleable\"><input class=\"sk-toggleable__control sk-hidden--visually\" id=\"sk-estimator-id-46\" type=\"checkbox\" ><label for=\"sk-estimator-id-46\" class=\"sk-toggleable__label sk-toggleable__label-arrow\">StandardScaler</label><div class=\"sk-toggleable__content\"><pre>StandardScaler(with_mean=False)</pre></div></div></div></div></div></div></div></div><div class=\"sk-parallel-item\"><div class=\"sk-item\"><div class=\"sk-label-container\"><div class=\"sk-label sk-toggleable\"><input class=\"sk-toggleable__control sk-hidden--visually\" id=\"sk-estimator-id-47\" type=\"checkbox\" ><label for=\"sk-estimator-id-47\" class=\"sk-toggleable__label sk-toggleable__label-arrow\">sentiment</label><div class=\"sk-toggleable__content\"><pre>[&#x27;neg&#x27;, &#x27;neu&#x27;, &#x27;pos&#x27;, &#x27;compound&#x27;]</pre></div></div></div><div class=\"sk-serial\"><div class=\"sk-item\"><div class=\"sk-estimator sk-toggleable\"><input class=\"sk-toggleable__control sk-hidden--visually\" id=\"sk-estimator-id-48\" type=\"checkbox\" ><label for=\"sk-estimator-id-48\" class=\"sk-toggleable__label sk-toggleable__label-arrow\">passthrough</label><div class=\"sk-toggleable__content\"><pre>passthrough</pre></div></div></div></div></div></div><div class=\"sk-parallel-item\"><div class=\"sk-item\"><div class=\"sk-label-container\"><div class=\"sk-label sk-toggleable\"><input class=\"sk-toggleable__control sk-hidden--visually\" id=\"sk-estimator-id-49\" type=\"checkbox\" ><label for=\"sk-estimator-id-49\" class=\"sk-toggleable__label sk-toggleable__label-arrow\">ss</label><div class=\"sk-toggleable__content\"><pre>[&#x27;neg&#x27;, &#x27;neu&#x27;, &#x27;pos&#x27;, &#x27;compound&#x27;]</pre></div></div></div><div class=\"sk-serial\"><div class=\"sk-item\"><div class=\"sk-estimator sk-toggleable\"><input class=\"sk-toggleable__control sk-hidden--visually\" id=\"sk-estimator-id-50\" type=\"checkbox\" ><label for=\"sk-estimator-id-50\" class=\"sk-toggleable__label sk-toggleable__label-arrow\">StandardScaler</label><div class=\"sk-toggleable__content\"><pre>StandardScaler(with_mean=False)</pre></div></div></div></div></div></div></div></div><div class=\"sk-item\"><div class=\"sk-estimator sk-toggleable\"><input class=\"sk-toggleable__control sk-hidden--visually\" id=\"sk-estimator-id-51\" type=\"checkbox\" ><label for=\"sk-estimator-id-51\" class=\"sk-toggleable__label sk-toggleable__label-arrow\">LinearSVC</label><div class=\"sk-toggleable__content\"><pre>LinearSVC(class_weight=&#x27;balanced&#x27;)</pre></div></div></div></div></div></div></div></div></div></div></div></div>"
      ],
      "text/plain": [
       "GridSearchCV(cv=5,\n",
       "             estimator=Pipeline(steps=[('preprocessor',\n",
       "                                        ColumnTransformer(transformers=[('text',\n",
       "                                                                         Pipeline(steps=[('tfidf',\n",
       "                                                                                          TfidfVectorizer(stop_words='english')),\n",
       "                                                                                         ('scaler',\n",
       "                                                                                          StandardScaler(with_mean=False))]),\n",
       "                                                                         'text'),\n",
       "                                                                        ('sentiment',\n",
       "                                                                         'passthrough',\n",
       "                                                                         ['neg',\n",
       "                                                                          'neu',\n",
       "                                                                          'pos',\n",
       "                                                                          'compound']),\n",
       "                                                                        ('ss',\n",
       "                                                                         StandardScaler(with_mean=False),\n",
       "                                                                         ['neg',\n",
       "                                                                          'neu',\n",
       "                                                                          'pos',\n",
       "                                                                          'compound'])])),\n",
       "                                       ('svc',\n",
       "                                        LinearSVC(class_weight='balanced'))]),\n",
       "             n_jobs=-1,\n",
       "             param_grid={'svc__C': [0.1, 1, 10],\n",
       "                         'svc__class_weight': [None, 'balanced'],\n",
       "                         'svc__loss': ['hinge', 'squared_hinge']},\n",
       "             scoring='accuracy')"
      ]
     },
     "execution_count": 30,
     "metadata": {},
     "output_type": "execute_result"
    }
   ],
   "source": [
    "# fitting gs to X,y\n",
    "gs.fit(X_train, y_train)\n"
   ]
  },
  {
   "cell_type": "markdown",
   "id": "370b4841",
   "metadata": {},
   "source": [
    "#### Storing the Best Parameters and Refitting\n",
    "\n",
    "We'll take the best parameters from our gridsearch and apply them to the SVC pipe created previously. "
   ]
  },
  {
   "cell_type": "code",
   "execution_count": 31,
   "id": "47b726c0",
   "metadata": {},
   "outputs": [
    {
     "name": "stderr",
     "output_type": "stream",
     "text": [
      "/Users/ryan/miniconda3/envs/tf/lib/python3.9/site-packages/sklearn/svm/_base.py:1244: ConvergenceWarning: Liblinear failed to converge, increase the number of iterations.\n",
      "  warnings.warn(\n"
     ]
    },
    {
     "data": {
      "text/html": [
       "<style>#sk-container-id-7 {color: black;background-color: white;}#sk-container-id-7 pre{padding: 0;}#sk-container-id-7 div.sk-toggleable {background-color: white;}#sk-container-id-7 label.sk-toggleable__label {cursor: pointer;display: block;width: 100%;margin-bottom: 0;padding: 0.3em;box-sizing: border-box;text-align: center;}#sk-container-id-7 label.sk-toggleable__label-arrow:before {content: \"▸\";float: left;margin-right: 0.25em;color: #696969;}#sk-container-id-7 label.sk-toggleable__label-arrow:hover:before {color: black;}#sk-container-id-7 div.sk-estimator:hover label.sk-toggleable__label-arrow:before {color: black;}#sk-container-id-7 div.sk-toggleable__content {max-height: 0;max-width: 0;overflow: hidden;text-align: left;background-color: #f0f8ff;}#sk-container-id-7 div.sk-toggleable__content pre {margin: 0.2em;color: black;border-radius: 0.25em;background-color: #f0f8ff;}#sk-container-id-7 input.sk-toggleable__control:checked~div.sk-toggleable__content {max-height: 200px;max-width: 100%;overflow: auto;}#sk-container-id-7 input.sk-toggleable__control:checked~label.sk-toggleable__label-arrow:before {content: \"▾\";}#sk-container-id-7 div.sk-estimator input.sk-toggleable__control:checked~label.sk-toggleable__label {background-color: #d4ebff;}#sk-container-id-7 div.sk-label input.sk-toggleable__control:checked~label.sk-toggleable__label {background-color: #d4ebff;}#sk-container-id-7 input.sk-hidden--visually {border: 0;clip: rect(1px 1px 1px 1px);clip: rect(1px, 1px, 1px, 1px);height: 1px;margin: -1px;overflow: hidden;padding: 0;position: absolute;width: 1px;}#sk-container-id-7 div.sk-estimator {font-family: monospace;background-color: #f0f8ff;border: 1px dotted black;border-radius: 0.25em;box-sizing: border-box;margin-bottom: 0.5em;}#sk-container-id-7 div.sk-estimator:hover {background-color: #d4ebff;}#sk-container-id-7 div.sk-parallel-item::after {content: \"\";width: 100%;border-bottom: 1px solid gray;flex-grow: 1;}#sk-container-id-7 div.sk-label:hover label.sk-toggleable__label {background-color: #d4ebff;}#sk-container-id-7 div.sk-serial::before {content: \"\";position: absolute;border-left: 1px solid gray;box-sizing: border-box;top: 0;bottom: 0;left: 50%;z-index: 0;}#sk-container-id-7 div.sk-serial {display: flex;flex-direction: column;align-items: center;background-color: white;padding-right: 0.2em;padding-left: 0.2em;position: relative;}#sk-container-id-7 div.sk-item {position: relative;z-index: 1;}#sk-container-id-7 div.sk-parallel {display: flex;align-items: stretch;justify-content: center;background-color: white;position: relative;}#sk-container-id-7 div.sk-item::before, #sk-container-id-7 div.sk-parallel-item::before {content: \"\";position: absolute;border-left: 1px solid gray;box-sizing: border-box;top: 0;bottom: 0;left: 50%;z-index: -1;}#sk-container-id-7 div.sk-parallel-item {display: flex;flex-direction: column;z-index: 1;position: relative;background-color: white;}#sk-container-id-7 div.sk-parallel-item:first-child::after {align-self: flex-end;width: 50%;}#sk-container-id-7 div.sk-parallel-item:last-child::after {align-self: flex-start;width: 50%;}#sk-container-id-7 div.sk-parallel-item:only-child::after {width: 0;}#sk-container-id-7 div.sk-dashed-wrapped {border: 1px dashed gray;margin: 0 0.4em 0.5em 0.4em;box-sizing: border-box;padding-bottom: 0.4em;background-color: white;}#sk-container-id-7 div.sk-label label {font-family: monospace;font-weight: bold;display: inline-block;line-height: 1.2em;}#sk-container-id-7 div.sk-label-container {text-align: center;}#sk-container-id-7 div.sk-container {/* jupyter's `normalize.less` sets `[hidden] { display: none; }` but bootstrap.min.css set `[hidden] { display: none !important; }` so we also need the `!important` here to be able to override the default hidden behavior on the sphinx rendered scikit-learn.org. See: https://github.com/scikit-learn/scikit-learn/issues/21755 */display: inline-block !important;position: relative;}#sk-container-id-7 div.sk-text-repr-fallback {display: none;}</style><div id=\"sk-container-id-7\" class=\"sk-top-container\"><div class=\"sk-text-repr-fallback\"><pre>Pipeline(steps=[(&#x27;preprocessor&#x27;,\n",
       "                 ColumnTransformer(transformers=[(&#x27;text&#x27;,\n",
       "                                                  Pipeline(steps=[(&#x27;tfidf&#x27;,\n",
       "                                                                   TfidfVectorizer(stop_words=&#x27;english&#x27;)),\n",
       "                                                                  (&#x27;scaler&#x27;,\n",
       "                                                                   StandardScaler(with_mean=False))]),\n",
       "                                                  &#x27;text&#x27;),\n",
       "                                                 (&#x27;sentiment&#x27;, &#x27;passthrough&#x27;,\n",
       "                                                  [&#x27;neg&#x27;, &#x27;neu&#x27;, &#x27;pos&#x27;,\n",
       "                                                   &#x27;compound&#x27;]),\n",
       "                                                 (&#x27;ss&#x27;,\n",
       "                                                  StandardScaler(with_mean=False),\n",
       "                                                  [&#x27;neg&#x27;, &#x27;neu&#x27;, &#x27;pos&#x27;,\n",
       "                                                   &#x27;compound&#x27;])])),\n",
       "                (&#x27;svc&#x27;, LinearSVC(C=0.1))])</pre><b>In a Jupyter environment, please rerun this cell to show the HTML representation or trust the notebook. <br />On GitHub, the HTML representation is unable to render, please try loading this page with nbviewer.org.</b></div><div class=\"sk-container\" hidden><div class=\"sk-item sk-dashed-wrapped\"><div class=\"sk-label-container\"><div class=\"sk-label sk-toggleable\"><input class=\"sk-toggleable__control sk-hidden--visually\" id=\"sk-estimator-id-52\" type=\"checkbox\" ><label for=\"sk-estimator-id-52\" class=\"sk-toggleable__label sk-toggleable__label-arrow\">Pipeline</label><div class=\"sk-toggleable__content\"><pre>Pipeline(steps=[(&#x27;preprocessor&#x27;,\n",
       "                 ColumnTransformer(transformers=[(&#x27;text&#x27;,\n",
       "                                                  Pipeline(steps=[(&#x27;tfidf&#x27;,\n",
       "                                                                   TfidfVectorizer(stop_words=&#x27;english&#x27;)),\n",
       "                                                                  (&#x27;scaler&#x27;,\n",
       "                                                                   StandardScaler(with_mean=False))]),\n",
       "                                                  &#x27;text&#x27;),\n",
       "                                                 (&#x27;sentiment&#x27;, &#x27;passthrough&#x27;,\n",
       "                                                  [&#x27;neg&#x27;, &#x27;neu&#x27;, &#x27;pos&#x27;,\n",
       "                                                   &#x27;compound&#x27;]),\n",
       "                                                 (&#x27;ss&#x27;,\n",
       "                                                  StandardScaler(with_mean=False),\n",
       "                                                  [&#x27;neg&#x27;, &#x27;neu&#x27;, &#x27;pos&#x27;,\n",
       "                                                   &#x27;compound&#x27;])])),\n",
       "                (&#x27;svc&#x27;, LinearSVC(C=0.1))])</pre></div></div></div><div class=\"sk-serial\"><div class=\"sk-item sk-dashed-wrapped\"><div class=\"sk-label-container\"><div class=\"sk-label sk-toggleable\"><input class=\"sk-toggleable__control sk-hidden--visually\" id=\"sk-estimator-id-53\" type=\"checkbox\" ><label for=\"sk-estimator-id-53\" class=\"sk-toggleable__label sk-toggleable__label-arrow\">preprocessor: ColumnTransformer</label><div class=\"sk-toggleable__content\"><pre>ColumnTransformer(transformers=[(&#x27;text&#x27;,\n",
       "                                 Pipeline(steps=[(&#x27;tfidf&#x27;,\n",
       "                                                  TfidfVectorizer(stop_words=&#x27;english&#x27;)),\n",
       "                                                 (&#x27;scaler&#x27;,\n",
       "                                                  StandardScaler(with_mean=False))]),\n",
       "                                 &#x27;text&#x27;),\n",
       "                                (&#x27;sentiment&#x27;, &#x27;passthrough&#x27;,\n",
       "                                 [&#x27;neg&#x27;, &#x27;neu&#x27;, &#x27;pos&#x27;, &#x27;compound&#x27;]),\n",
       "                                (&#x27;ss&#x27;, StandardScaler(with_mean=False),\n",
       "                                 [&#x27;neg&#x27;, &#x27;neu&#x27;, &#x27;pos&#x27;, &#x27;compound&#x27;])])</pre></div></div></div><div class=\"sk-parallel\"><div class=\"sk-parallel-item\"><div class=\"sk-item\"><div class=\"sk-label-container\"><div class=\"sk-label sk-toggleable\"><input class=\"sk-toggleable__control sk-hidden--visually\" id=\"sk-estimator-id-54\" type=\"checkbox\" ><label for=\"sk-estimator-id-54\" class=\"sk-toggleable__label sk-toggleable__label-arrow\">text</label><div class=\"sk-toggleable__content\"><pre>text</pre></div></div></div><div class=\"sk-serial\"><div class=\"sk-item\"><div class=\"sk-serial\"><div class=\"sk-item\"><div class=\"sk-estimator sk-toggleable\"><input class=\"sk-toggleable__control sk-hidden--visually\" id=\"sk-estimator-id-55\" type=\"checkbox\" ><label for=\"sk-estimator-id-55\" class=\"sk-toggleable__label sk-toggleable__label-arrow\">TfidfVectorizer</label><div class=\"sk-toggleable__content\"><pre>TfidfVectorizer(stop_words=&#x27;english&#x27;)</pre></div></div></div><div class=\"sk-item\"><div class=\"sk-estimator sk-toggleable\"><input class=\"sk-toggleable__control sk-hidden--visually\" id=\"sk-estimator-id-56\" type=\"checkbox\" ><label for=\"sk-estimator-id-56\" class=\"sk-toggleable__label sk-toggleable__label-arrow\">StandardScaler</label><div class=\"sk-toggleable__content\"><pre>StandardScaler(with_mean=False)</pre></div></div></div></div></div></div></div></div><div class=\"sk-parallel-item\"><div class=\"sk-item\"><div class=\"sk-label-container\"><div class=\"sk-label sk-toggleable\"><input class=\"sk-toggleable__control sk-hidden--visually\" id=\"sk-estimator-id-57\" type=\"checkbox\" ><label for=\"sk-estimator-id-57\" class=\"sk-toggleable__label sk-toggleable__label-arrow\">sentiment</label><div class=\"sk-toggleable__content\"><pre>[&#x27;neg&#x27;, &#x27;neu&#x27;, &#x27;pos&#x27;, &#x27;compound&#x27;]</pre></div></div></div><div class=\"sk-serial\"><div class=\"sk-item\"><div class=\"sk-estimator sk-toggleable\"><input class=\"sk-toggleable__control sk-hidden--visually\" id=\"sk-estimator-id-58\" type=\"checkbox\" ><label for=\"sk-estimator-id-58\" class=\"sk-toggleable__label sk-toggleable__label-arrow\">passthrough</label><div class=\"sk-toggleable__content\"><pre>passthrough</pre></div></div></div></div></div></div><div class=\"sk-parallel-item\"><div class=\"sk-item\"><div class=\"sk-label-container\"><div class=\"sk-label sk-toggleable\"><input class=\"sk-toggleable__control sk-hidden--visually\" id=\"sk-estimator-id-59\" type=\"checkbox\" ><label for=\"sk-estimator-id-59\" class=\"sk-toggleable__label sk-toggleable__label-arrow\">ss</label><div class=\"sk-toggleable__content\"><pre>[&#x27;neg&#x27;, &#x27;neu&#x27;, &#x27;pos&#x27;, &#x27;compound&#x27;]</pre></div></div></div><div class=\"sk-serial\"><div class=\"sk-item\"><div class=\"sk-estimator sk-toggleable\"><input class=\"sk-toggleable__control sk-hidden--visually\" id=\"sk-estimator-id-60\" type=\"checkbox\" ><label for=\"sk-estimator-id-60\" class=\"sk-toggleable__label sk-toggleable__label-arrow\">StandardScaler</label><div class=\"sk-toggleable__content\"><pre>StandardScaler(with_mean=False)</pre></div></div></div></div></div></div></div></div><div class=\"sk-item\"><div class=\"sk-estimator sk-toggleable\"><input class=\"sk-toggleable__control sk-hidden--visually\" id=\"sk-estimator-id-61\" type=\"checkbox\" ><label for=\"sk-estimator-id-61\" class=\"sk-toggleable__label sk-toggleable__label-arrow\">LinearSVC</label><div class=\"sk-toggleable__content\"><pre>LinearSVC(C=0.1)</pre></div></div></div></div></div></div></div>"
      ],
      "text/plain": [
       "Pipeline(steps=[('preprocessor',\n",
       "                 ColumnTransformer(transformers=[('text',\n",
       "                                                  Pipeline(steps=[('tfidf',\n",
       "                                                                   TfidfVectorizer(stop_words='english')),\n",
       "                                                                  ('scaler',\n",
       "                                                                   StandardScaler(with_mean=False))]),\n",
       "                                                  'text'),\n",
       "                                                 ('sentiment', 'passthrough',\n",
       "                                                  ['neg', 'neu', 'pos',\n",
       "                                                   'compound']),\n",
       "                                                 ('ss',\n",
       "                                                  StandardScaler(with_mean=False),\n",
       "                                                  ['neg', 'neu', 'pos',\n",
       "                                                   'compound'])])),\n",
       "                ('svc', LinearSVC(C=0.1))])"
      ]
     },
     "execution_count": 31,
     "metadata": {},
     "output_type": "execute_result"
    }
   ],
   "source": [
    "best_params_svm = gs.best_params_\n",
    "\n",
    "# Set best hyperparameters in pipeline\n",
    "pipe_svc.set_params(**best_params_svm)\n",
    "\n",
    "# Refit pipeline on entire training set\n",
    "pipe_svc.fit(X_train, y_train)"
   ]
  },
  {
   "cell_type": "markdown",
   "id": "2ebaa5f3",
   "metadata": {},
   "source": [
    "#### Generating SVC Model Predictions"
   ]
  },
  {
   "cell_type": "code",
   "execution_count": 32,
   "id": "a9e2aa70",
   "metadata": {},
   "outputs": [],
   "source": [
    "y_pred_svm = pipe_svc.predict(X_test)\n",
    "distances = pipe_svc.decision_function(X_test)\n",
    "y_score_svm = 1 / (1 + np.exp(-distances))\n",
    "accuracy_svm = pipe_svc.score(X_test, y_test)\n",
    "precision_svm = precision_score(y_test, y_pred_svm)\n",
    "recall_svm = recall_score(y_test, y_pred_svm)\n",
    "f1_svm = f1_score(y_test, y_pred_svm)"
   ]
  },
  {
   "cell_type": "markdown",
   "id": "0511c658",
   "metadata": {},
   "source": [
    "#### Model Results"
   ]
  },
  {
   "cell_type": "code",
   "execution_count": 44,
   "id": "d235f384",
   "metadata": {},
   "outputs": [
    {
     "name": "stdout",
     "output_type": "stream",
     "text": [
      "SVC Accuracy: 0.8203966005665723\n",
      "SVC Precision: 0.8211111111111111\n",
      "SVC Recall: 0.8256983240223463\n",
      "SVC F1 score: 0.8233983286908078\n"
     ]
    }
   ],
   "source": [
    "print(f\"SVC Accuracy: {accuracy_svm}\")\n",
    "print(f\"SVC Precision: {precision_svm}\")\n",
    "print(f\"SVC Recall: {recall_svm}\")\n",
    "print(f\"SVC F1 score: {f1_svm}\")"
   ]
  },
  {
   "cell_type": "code",
   "execution_count": 34,
   "id": "042e8e80",
   "metadata": {},
   "outputs": [
    {
     "data": {
      "text/plain": [
       "{'svc__C': 0.1, 'svc__class_weight': None, 'svc__loss': 'squared_hinge'}"
      ]
     },
     "execution_count": 34,
     "metadata": {},
     "output_type": "execute_result"
    }
   ],
   "source": [
    "best_params_svm"
   ]
  },
  {
   "cell_type": "markdown",
   "id": "0da68154",
   "metadata": {},
   "source": [
    "### Selected Model (RandomForrest)"
   ]
  },
  {
   "cell_type": "markdown",
   "id": "65daabff",
   "metadata": {},
   "source": [
    "The model that performed the best for our dataset was the RandomForrest (RF) Model. The RF model provides a highly accuract model, while acheiving a reasonable trade-off between Precision and Recall, as shown by the high F1 score below."
   ]
  },
  {
   "cell_type": "markdown",
   "id": "cdebaa71",
   "metadata": {},
   "source": [
    "| Model         | Accuracy | Precision | Recall | F1 Score |\n",
    "|---------------|----------|-----------|--------|----------|\n",
    "| Random Forrest| 0.904    | 0.910     | 0.897  | 0.903  |\n",
    "| LinearSVC     | 0.820    | 0.821     | 0.826  | 0.823    |\n",
    "| NB            | 0.872    | 0.944     | 0.792  | 0.861    |"
   ]
  },
  {
   "cell_type": "markdown",
   "id": "92468875",
   "metadata": {},
   "source": [
    "On the next worksheet, we'll summarize the findings of the RF model in more detail and provide a summary of our analysis."
   ]
  },
  {
   "cell_type": "code",
   "execution_count": 35,
   "id": "fd1f476d",
   "metadata": {},
   "outputs": [],
   "source": [
    "with open('pickles/y_pred_rf.pkl', 'wb') as f:\n",
    "    pickle.dump(y_pred_rf, f)\n",
    "      \n",
    "with open('pickles/accuracy_rf.pkl', 'wb') as f:\n",
    "    pickle.dump(accuracy_rf, f)\n",
    "    \n",
    "with open('pickles/y_test_rf.pkl', 'wb') as f:\n",
    "    pickle.dump(y_test_rf, f)\n",
    "      \n",
    "with open('pickles/y_score.pkl', 'wb') as f:\n",
    "    pickle.dump(y_score, f)\n",
    "    \n",
    "with open('pickles/y_score_nb.pkl', 'wb') as f:\n",
    "    pickle.dump(y_score_nb, f)\n",
    "\n",
    "with open('pickles/y_score_svm.pkl', 'wb') as f:\n",
    "    pickle.dump(y_score_svm, f)\n",
    "    \n",
    "with open('pickles/y_pred_svm.pkl', 'wb') as f:\n",
    "    pickle.dump(y_pred_svm, f)\n",
    "          \n",
    "with open('pickles/y_pred_nb.pkl', 'wb') as f:\n",
    "    pickle.dump(y_pred_nb, f)\n",
    "    \n",
    "with open('pickles/y_test_svm.pkl', 'wb') as f:\n",
    "    pickle.dump(y_test_svm, f)\n",
    "          \n",
    "with open('pickles/y_test_nb.pkl', 'wb') as f:\n",
    "    pickle.dump(y_test_nb, f)"
   ]
  },
  {
   "cell_type": "markdown",
   "id": "7a90b815",
   "metadata": {},
   "source": [
    "### Model Score Exports"
   ]
  },
  {
   "cell_type": "code",
   "execution_count": 36,
   "id": "744aef9b",
   "metadata": {},
   "outputs": [],
   "source": [
    "with open('pickles/precision_rf.pkl', 'wb') as f:\n",
    "    pickle.dump(precision_rf, f)\n",
    "    \n",
    "with open('pickles/recall_rf.pkl', 'wb') as f:\n",
    "    pickle.dump(recall_rf, f)\n",
    "          \n",
    "with open('pickles/f1_rf.pkl', 'wb') as f:\n",
    "    pickle.dump(f1_rf, f)"
   ]
  },
  {
   "cell_type": "code",
   "execution_count": 37,
   "id": "13d58dce",
   "metadata": {},
   "outputs": [],
   "source": [
    "with open('pickles/accuracy_svm.pkl', 'wb') as f:\n",
    "    pickle.dump(accuracy_svm, f)\n",
    "\n",
    "with open('pickles/precision_svm.pkl', 'wb') as f:\n",
    "    pickle.dump(precision_svm, f)\n",
    "    \n",
    "with open('pickles/recall_svm.pkl', 'wb') as f:\n",
    "    pickle.dump(recall_svm, f)\n",
    "          \n",
    "with open('pickles/f1_svm.pkl', 'wb') as f:\n",
    "    pickle.dump(f1_svm, f)"
   ]
  },
  {
   "cell_type": "code",
   "execution_count": 38,
   "id": "a4038e73",
   "metadata": {},
   "outputs": [],
   "source": [
    "with open('pickles/accuracy.pkl', 'wb') as f:\n",
    "    pickle.dump(accuracy, f)\n",
    "    \n",
    "with open('pickles/precision.pkl', 'wb') as f:\n",
    "    pickle.dump(precision, f)\n",
    "    \n",
    "with open('pickles/recall.pkl', 'wb') as f:\n",
    "    pickle.dump(recall, f)\n",
    "          \n",
    "with open('pickles/f1.pkl', 'wb') as f:\n",
    "    pickle.dump(f1, f)"
   ]
  }
 ],
 "metadata": {
  "kernelspec": {
   "display_name": "Python 3 (ipykernel)",
   "language": "python",
   "name": "python3"
  },
  "language_info": {
   "codemirror_mode": {
    "name": "ipython",
    "version": 3
   },
   "file_extension": ".py",
   "mimetype": "text/x-python",
   "name": "python",
   "nbconvert_exporter": "python",
   "pygments_lexer": "ipython3",
   "version": "3.9.16"
  }
 },
 "nbformat": 4,
 "nbformat_minor": 5
}
