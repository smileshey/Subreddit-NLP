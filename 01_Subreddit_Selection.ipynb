{
 "cells": [
  {
   "cell_type": "markdown",
   "metadata": {},
   "source": [
    "#  Project 3: Web APIs & NLP\n",
    "\n",
    "In this project, I'll use the Pushshift API to gather data from two subreddits. I'll then use NLP to train a classifier on a given post from one of the two subreddits.\n",
    "\n",
    "Within this analysis I'll create and compare two models, summarize my findings, and curate a presentation with my findings."
   ]
  },
  {
   "cell_type": "markdown",
   "metadata": {},
   "source": [
    "### Problem Statement"
   ]
  },
  {
   "cell_type": "markdown",
   "metadata": {},
   "source": [
    "Our consumer research firm is collaborating with a client to gain insights into the distinct behavior and preferences of customers who have children and those who do not. We will be analyzing the text content of posts from two subreddits, r/childfree and r/parenting, using natural language processing techniques to predict which subreddit the text belongs to. By accurately predicting the subreddit a particular text belongs to, we can help our client gain a better understanding of the language and tone preferred by each subreddit's users. This will enable our client to tailor their products and services to the specific needs and preferences of each group, and create targeted advertising that resonates with their intended audience. \n",
    "\n",
    "Our analysis will create a model that can take in text data from our client and predict the most suitable language for advertisement in either community. This will help our client gain a deeper understanding of the needs and preferences of these two groups, and inform their marketing and product development strategies.\n",
    "\n",
    "\n",
    "\n"
   ]
  },
  {
   "cell_type": "markdown",
   "metadata": {},
   "source": [
    "### Subreddit Selection and Descriptions\n",
    "\n",
    "The two subreddits that we will be analyzing with our Natural Language Processing (NLP) Model are r/Parenting and r/Childfree. Below are the descriptions of both subreddits.\n",
    "\n",
    "From r/Parenting: (https://www.reddit.com/r/Parenting/)\n",
    "\n",
    "\"/r/Parenting is the place to discuss the ins and out as well as ups and downs of child-rearing. From the early stages of pregnancy to when your teenagers are finally ready to leave the nest (even if they don't want to) we're here to help you through this crazy thing called parenting. You can get advice on potty training, talk about breastfeeding, discuss how to get your baby to sleep or ask if that one weird thing your kid does is normal.\"\n",
    "\n",
    "From r/childfree: (https://www.reddit.com/r/childfree/)\n",
    "\n",
    "\"r/childfree is a subreddit for people who have chosen to live a child-free lifestyle. Members of the community typically do not have or do not want children, and use the subreddit to share experiences, offer support, and discuss topics related to their decision not to have children.\n",
    "\n",
    "The subreddit is a space for people to discuss the challenges and benefits of living a child-free life, as well as to share stories of dealing with social pressures and expectations surrounding parenthood. Discussions on the subreddit can cover a wide range of topics, including relationships, career goals, travel, hobbies, and personal growth.\"\n",
    "\n",
    "\n",
    "Both subreddits will serve our client well and help them further their mission in correctly reaching prospective customers."
   ]
  },
  {
   "cell_type": "markdown",
   "metadata": {},
   "source": [
    "### Subreddit Statistics\n",
    "\n",
    "Before we proceed with the analysis of our subreddits, it's beneficial to evaluate their relative differences in terms of popularity on Reddit.\n",
    "\n",
    "Both r/Parenting and r/Childfree are popular subreddits that have both experienced significant growth over the past 6 years. The growth for each subreddit is shown below:"
   ]
  },
  {
   "cell_type": "markdown",
   "metadata": {},
   "source": [
    "| Year | r/childfree subscribers | &nbsp; | Year | r/parenting subscribers |\n",
    "|------|------------------------|--------|------|------------------------|\n",
    "| 2018 | 180,000                | &nbsp; | 2018 | 345,000                |\n",
    "| 2019 | 480,000                | &nbsp; | 2019 | 660,000                |\n",
    "| 2020 | 790,000                | &nbsp; | 2020 | 1 million              |\n",
    "| 2021 | 1.1 million            | &nbsp; | 2021 | 1.4 million            |\n",
    "| 2022 | 1.3 million            | &nbsp; | 2022 | 1.6 million            |\n",
    "| 2023 | 1.4 million            | &nbsp; | 2023 | 1.7 million            |"
   ]
  },
  {
   "cell_type": "markdown",
   "metadata": {},
   "source": [
    "In 2023, r/childfree has ~1.5 million pageviews and 158,000 unique visitors per day, while r/parenting has an estimated 2.2 million pageviews and 258,000 unique visitors per day."
   ]
  },
  {
   "cell_type": "markdown",
   "metadata": {},
   "source": [
    "### Insights\n",
    "\n",
    "Given that both subreddits are similarly popular, both maintain a similar daily presence on the website, and both are similarly text based subreddits it's reasonable to assume that subreddit size will likely not be a large source of bias within our model.\n",
    "\n",
    "However, given that both subreddits have a large number of daily users, it's likely that both subreddits will host a larger amount of noise than smaller subreddits. We can define noise as the quantity of posts or comments that are seemingly unrelated to the primary topic of either subreddit. This noise may make it difficult for the model to accurately find trends in the data.\n",
    "\n",
    "As we process the data, it'll be important to keep this in mind."
   ]
  }
 ],
 "metadata": {
  "kernelspec": {
   "display_name": "Python 3 (ipykernel)",
   "language": "python",
   "name": "python3"
  },
  "language_info": {
   "codemirror_mode": {
    "name": "ipython",
    "version": 3
   },
   "file_extension": ".py",
   "mimetype": "text/x-python",
   "name": "python",
   "nbconvert_exporter": "python",
   "pygments_lexer": "ipython3",
   "version": "3.8.16"
  }
 },
 "nbformat": 4,
 "nbformat_minor": 2
}
